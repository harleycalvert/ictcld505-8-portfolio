{
 "cells": [
  {
   "cell_type": "markdown",
   "id": "f499967b",
   "metadata": {},
   "source": [
    "# Multi-Tier Web Application\n",
    "\n",
    "In this exercise we will be using OpenTofu (an open-source fork of Terraform) and Oracle Cloud Infrastructure to deploy a multi-tier web application using a VM instance and a Oracel Autonomous Database.\n",
    "\n",
    "[OpenTofu](https://opentofu.org)\n",
    "\n",
    "[Oracle Cloud Free Tier](https://www.oracle.com/au/cloud/free/)"
   ]
  },
  {
   "cell_type": "code",
   "execution_count": null,
   "id": "5906e7e3",
   "metadata": {},
   "outputs": [],
   "source": [
    "!oci session refresh --profile harleycalvert"
   ]
  },
  {
   "cell_type": "markdown",
   "id": "50cfa4d9",
   "metadata": {},
   "source": [
    "# Set Up OCI Terraform\n",
    "\n",
    "[Set Up OCI Terraform](https://docs.oracle.com/en-us/iaas/developer-tutorials/tutorials/tf-provider/01-summary.htm)"
   ]
  },
  {
   "cell_type": "markdown",
   "id": "07abd09a",
   "metadata": {},
   "source": [
    "## Install OpenTofu"
   ]
  },
  {
   "cell_type": "code",
   "execution_count": null,
   "id": "a2f7f9b0",
   "metadata": {},
   "outputs": [],
   "source": [
    "!snap install --classic opentofu"
   ]
  },
  {
   "cell_type": "code",
   "execution_count": null,
   "id": "7bc9765c",
   "metadata": {},
   "outputs": [],
   "source": [
    "!tofu -v"
   ]
  },
  {
   "cell_type": "markdown",
   "id": "854e482b",
   "metadata": {},
   "source": [
    "## Create RSA Keys"
   ]
  },
  {
   "cell_type": "code",
   "execution_count": null,
   "id": "b2b0b9b3",
   "metadata": {},
   "outputs": [],
   "source": [
    "!mkdir $HOME/.oci"
   ]
  },
  {
   "cell_type": "code",
   "execution_count": null,
   "id": "d3ae1660",
   "metadata": {},
   "outputs": [],
   "source": [
    "!openssl genrsa -out $HOME/.oci/oci_rsa_key.pem 2048"
   ]
  },
  {
   "cell_type": "code",
   "execution_count": null,
   "id": "f87be0cd",
   "metadata": {},
   "outputs": [],
   "source": [
    "!chmod 600 $HOME/.oci/oci_rsa_key.pem"
   ]
  },
  {
   "cell_type": "code",
   "execution_count": null,
   "id": "3e76af21",
   "metadata": {},
   "outputs": [],
   "source": [
    "!openssl rsa -pubout -in $HOME/.oci/oci_rsa_key.pem -out $HOME/.oci/oci_rsa_key.pem.pub"
   ]
  },
  {
   "cell_type": "code",
   "execution_count": null,
   "id": "323cd91a",
   "metadata": {},
   "outputs": [],
   "source": [
    "!(cd $HOME/.oci/ && ls)"
   ]
  },
  {
   "cell_type": "code",
   "execution_count": null,
   "id": "893a294d",
   "metadata": {},
   "outputs": [],
   "source": [
    "!cat $HOME/.oci/oci_rsa_key.pem.pub"
   ]
  },
  {
   "cell_type": "markdown",
   "id": "11099f52",
   "metadata": {},
   "source": [
    "Add the public key to your user account.\n",
    "\n",
    "In the OCI Console's top navigation bar, click the Profile menu, and then go to My profile.\n",
    "- Click API Keys.\n",
    "- Click Add API Key.\n",
    "- Select Paste Public Keys.\n",
    "- Paste value from previous step, including the lines with BEGIN PUBLIC KEY and END PUBLIC KEY.\n",
    "- Click Add.\n",
    "- Copy the Configuration file preview.\n",
    "- Paste the Configuration file preview into ~/.oci/config\n",
    "\n",
    "You have now set up the RSA keys to connect to your OCI account."
   ]
  },
  {
   "cell_type": "markdown",
   "id": "c6620ced",
   "metadata": {},
   "source": [
    "## Add API Key-Based Authentication"
   ]
  },
  {
   "cell_type": "code",
   "execution_count": null,
   "id": "8014fcca",
   "metadata": {},
   "outputs": [],
   "source": [
    "!mkdir tf-provider"
   ]
  },
  {
   "cell_type": "markdown",
   "id": "d0e10abe",
   "metadata": {},
   "source": [
    "## Gather Required Information\n",
    "Collect the following credential information from the OCI Console.\n",
    "\n",
    "- Tenancy OCID\n",
    "- User OCID\n",
    "- Fingerprint\n",
    "- Region \n",
    "  - ap-melbourne-1\n",
    "\n",
    "Collect the following information from your environment.\n",
    "\n",
    "- Private Key Path \n",
    "  - /home/harley/.oci/oci_rsa_key.pem\n",
    "  \n",
    "Put the information in provider.tf like so:"
   ]
  },
  {
   "cell_type": "code",
   "execution_count": null,
   "id": "4a4eef6c",
   "metadata": {},
   "outputs": [],
   "source": [
    "%%writefile ./tf-provider/provider.tf\n",
    "\n",
    "provider \"oci\" {  \n",
    "  tenancy_ocid = \"<tenancy-ocid>\"\n",
    "  user_ocid = \"<user-ocid>\" \n",
    "  private_key_path = \"<rsa-private-key-path>\"\n",
    "  fingerprint = \"<fingerprint>\"\n",
    "  region = \"<region-identifier>\"\n",
    "}"
   ]
  },
  {
   "cell_type": "code",
   "execution_count": null,
   "id": "f8290da8",
   "metadata": {},
   "outputs": [],
   "source": [
    "!code ./tf-provider/provider.tf"
   ]
  },
  {
   "cell_type": "code",
   "execution_count": null,
   "id": "95305361",
   "metadata": {},
   "outputs": [],
   "source": [
    "%%writefile ./tf-provider/availability-domains.tf\n",
    "\n",
    "\n",
    "# Source from https://registry.terraform.io/providers/oracle/oci/latest/docs/data-sources/identity_availability_domains\n",
    "\n",
    "# Tenancy is the root or parent to all compartments.\n",
    "# For this, use the value of <tenancy-ocid> for the compartment OCID.\n",
    "\n",
    "data \"oci_identity_availability_domains\" \"ads\" {\n",
    "  compartment_id = \"<tenancy-ocid>\"\n",
    "}"
   ]
  },
  {
   "cell_type": "code",
   "execution_count": null,
   "id": "8823ad76",
   "metadata": {},
   "outputs": [],
   "source": [
    "!code ./tf-provider/availability-domains.tf"
   ]
  },
  {
   "cell_type": "code",
   "execution_count": null,
   "id": "cddfb9d3",
   "metadata": {},
   "outputs": [],
   "source": [
    "%%writefile ./tf-provider/outputs.tf\n",
    "\n",
    "\n",
    "# Output the \"list\" of all availability domains.\n",
    "output \"all-availability-domains-in-your-tenancy\" {\n",
    "  value = data.oci_identity_availability_domains.ads.availability_domains\n",
    "}"
   ]
  },
  {
   "cell_type": "code",
   "execution_count": null,
   "id": "ba7acc5e",
   "metadata": {},
   "outputs": [],
   "source": [
    "!code ./tf-provider/outputs.tf"
   ]
  },
  {
   "cell_type": "markdown",
   "id": "57951b0d",
   "metadata": {},
   "source": [
    "## Run Scripts"
   ]
  },
  {
   "cell_type": "code",
   "execution_count": null,
   "id": "b4b428d8",
   "metadata": {},
   "outputs": [],
   "source": [
    "!pwd"
   ]
  },
  {
   "cell_type": "code",
   "execution_count": null,
   "id": "697874e7",
   "metadata": {},
   "outputs": [],
   "source": [
    "!(cd tf-provider && tofu init) "
   ]
  },
  {
   "cell_type": "code",
   "execution_count": null,
   "id": "8183ed9b",
   "metadata": {},
   "outputs": [],
   "source": [
    "!(cd tf-provider && ls -al) "
   ]
  },
  {
   "cell_type": "code",
   "execution_count": null,
   "id": "294737fb",
   "metadata": {},
   "outputs": [],
   "source": [
    "!(cd tf-provider && tree) "
   ]
  },
  {
   "cell_type": "code",
   "execution_count": null,
   "id": "1ced21fd",
   "metadata": {},
   "outputs": [],
   "source": [
    "!(cd tf-provider && tofu validate)"
   ]
  },
  {
   "cell_type": "code",
   "execution_count": null,
   "id": "71208478",
   "metadata": {},
   "outputs": [],
   "source": [
    "!(cd tf-provider && tofu plan -input=false)"
   ]
  },
  {
   "cell_type": "code",
   "execution_count": null,
   "id": "f79e41a7",
   "metadata": {},
   "outputs": [],
   "source": [
    "!(cd tf-provider && tofu apply -input=false -auto-approve)"
   ]
  },
  {
   "cell_type": "code",
   "execution_count": null,
   "id": "2ab996a0",
   "metadata": {},
   "outputs": [],
   "source": [
    "!(cd tf-provider && tofu output)"
   ]
  },
  {
   "cell_type": "markdown",
   "id": "53b1946b",
   "metadata": {},
   "source": [
    "# Create a Compartment\n",
    "\n",
    "[Create a Compartment](https://docs.oracle.com/en-us/iaas/developer-tutorials/tutorials/tf-compartment/01-summary.htm)"
   ]
  },
  {
   "cell_type": "markdown",
   "id": "1a486dc8",
   "metadata": {},
   "source": [
    "## Create Scripts"
   ]
  },
  {
   "cell_type": "code",
   "execution_count": null,
   "id": "e64a7b57",
   "metadata": {},
   "outputs": [],
   "source": [
    "!mkdir ./tf-compartment"
   ]
  },
  {
   "cell_type": "code",
   "execution_count": null,
   "id": "2807c0c1",
   "metadata": {},
   "outputs": [],
   "source": [
    "!cp ./tf-provider/provider.tf ./tf-compartment/provider.tf "
   ]
  },
  {
   "cell_type": "code",
   "execution_count": null,
   "id": "3e95f483",
   "metadata": {},
   "outputs": [],
   "source": [
    "%%writefile ./tf-compartment/compartment.tf\n",
    "\n",
    "\n",
    "resource \"oci_identity_compartment\" \"tf-compartment\" {\n",
    "    # Required\n",
    "    compartment_id = \"<tenancy-ocid>\"\n",
    "    description = \"<your-description>\"\n",
    "    name = \"<your-compartment-name>\"\n",
    "}"
   ]
  },
  {
   "cell_type": "markdown",
   "id": "416b92be",
   "metadata": {},
   "source": [
    "Replace your-compartment-name with a name of your choice."
   ]
  },
  {
   "cell_type": "code",
   "execution_count": null,
   "id": "a3890e68",
   "metadata": {},
   "outputs": [],
   "source": [
    "!code ./tf-compartment/compartment.tf"
   ]
  },
  {
   "cell_type": "code",
   "execution_count": null,
   "id": "590fdef1",
   "metadata": {},
   "outputs": [],
   "source": [
    "%%writefile ./tf-compartment/outputs.tf\n",
    "\n",
    "\n",
    "# Outputs for compartment\n",
    "output \"compartment-name\" {\n",
    "  value = oci_identity_compartment.tf-compartment.name\n",
    "}\n",
    "\n",
    "output \"compartment-OCID\" {\n",
    "  value = oci_identity_compartment.tf-compartment.id\n",
    "}"
   ]
  },
  {
   "cell_type": "code",
   "execution_count": null,
   "id": "c963a018",
   "metadata": {},
   "outputs": [],
   "source": [
    "!code ./tf-compartment/outputs.tf"
   ]
  },
  {
   "cell_type": "markdown",
   "id": "d1bfaa26",
   "metadata": {},
   "source": [
    "## Run Scripts"
   ]
  },
  {
   "cell_type": "code",
   "execution_count": null,
   "id": "f12bd4eb",
   "metadata": {},
   "outputs": [],
   "source": [
    "!pwd"
   ]
  },
  {
   "cell_type": "code",
   "execution_count": null,
   "id": "bf2ffa73",
   "metadata": {},
   "outputs": [],
   "source": [
    "!(cd tf-compartment && ls -al) "
   ]
  },
  {
   "cell_type": "code",
   "execution_count": null,
   "id": "ad795a6f",
   "metadata": {},
   "outputs": [],
   "source": [
    "!(cd tf-compartment && tofu init) "
   ]
  },
  {
   "cell_type": "code",
   "execution_count": null,
   "id": "ad37a8cd",
   "metadata": {},
   "outputs": [],
   "source": [
    "!(cd tf-compartment && tofu validate)"
   ]
  },
  {
   "cell_type": "code",
   "execution_count": null,
   "id": "1bb7b96b",
   "metadata": {},
   "outputs": [],
   "source": [
    "!(cd tf-compartment && tofu plan -input=false)"
   ]
  },
  {
   "cell_type": "code",
   "execution_count": null,
   "id": "01a278d0",
   "metadata": {},
   "outputs": [],
   "source": [
    "!(cd tf-compartment && tofu apply -input=false -auto-approve)"
   ]
  },
  {
   "cell_type": "code",
   "execution_count": null,
   "id": "12036065",
   "metadata": {},
   "outputs": [],
   "source": [
    "!(cd tf-compartment && tofu output)"
   ]
  },
  {
   "cell_type": "markdown",
   "id": "d5475499",
   "metadata": {},
   "source": [
    "# Create a Virtual Cloud Network\n",
    "\n",
    "[Create a Virtual Cloud Network](https://docs.oracle.com/en-us/iaas/developer-tutorials/tutorials/tf-vcn/01-summary.htm)"
   ]
  },
  {
   "cell_type": "markdown",
   "id": "c4ec5266",
   "metadata": {},
   "source": [
    "## Create a Basic Network"
   ]
  },
  {
   "cell_type": "code",
   "execution_count": null,
   "id": "e2487796",
   "metadata": {},
   "outputs": [],
   "source": [
    "!mkdir ./tf-vcn"
   ]
  },
  {
   "cell_type": "code",
   "execution_count": null,
   "id": "36e42410",
   "metadata": {},
   "outputs": [],
   "source": [
    "!cp ./tf-provider/provider.tf ./tf-vcn/provider.tf "
   ]
  },
  {
   "cell_type": "code",
   "execution_count": null,
   "id": "88da8cfc",
   "metadata": {},
   "outputs": [],
   "source": [
    "%%writefile ./tf-vcn/vcn.tf\n",
    "\n",
    "\n",
    "# https://github.com/oracle-terraform-modules/terraform-oci-vcn\n",
    "\n",
    "resource \"oci_core_vcn\" \"vcn\" {\n",
    "  # We still allow module users to declare a cidr using `vcn_cidr` instead of the now recommended `vcn_cidrs`, but internally we map both to `cidr_blocks`\n",
    "  # The module always use the new list of string structure and let the customer update his module definition block at his own pace.\n",
    "  cidr_blocks    = [\"10.0.0.0/16\"]\n",
    "  compartment_id = var.compartment_id\n",
    "  display_name   = \"vcn\"\n",
    "  dns_label      = \"vcn\"\n",
    "  is_ipv6enabled = false\n",
    "\n",
    "  freeform_tags = {\n",
    "    terraformed = \"Please do not edit manually\"\n",
    "    module      = \"oracle-terraform-modules/vcn/oci\"\n",
    "  }\n",
    "    \n",
    "  defined_tags  = null\n",
    "\n",
    "  lifecycle {\n",
    "    ignore_changes = [defined_tags, dns_label, freeform_tags]\n",
    "  }\n",
    "}"
   ]
  },
  {
   "cell_type": "markdown",
   "id": "f24eb28f",
   "metadata": {},
   "source": [
    "## Customise the Network\n",
    "### Create a Security List for the Public Subnet"
   ]
  },
  {
   "cell_type": "code",
   "execution_count": null,
   "id": "f74c9888",
   "metadata": {},
   "outputs": [],
   "source": [
    "%%writefile ./tf-vcn/public-security-list.tf\n",
    "\n",
    "\n",
    "# Source from https://registry.terraform.io/providers/oracle/oci/latest/docs/resources/core_security_list\n",
    "\n",
    "resource \"oci_core_security_list\" \"public-security-list\"{\n",
    "\n",
    "# Required\n",
    "  compartment_id = var.compartment_id\n",
    "  vcn_id = oci_core_vcn.vcn.id\n",
    "\n",
    "# Optional\n",
    "  display_name = \"security-list-for-public-subnet\"\n",
    "    \n",
    "  \n",
    "  egress_security_rules {\n",
    "    stateless = false\n",
    "    destination = \"0.0.0.0/0\"\n",
    "    destination_type = \"CIDR_BLOCK\"\n",
    "    protocol = \"all\" \n",
    "  }\n",
    "\n",
    " \n",
    "  ingress_security_rules {\n",
    "    stateless   = false\n",
    "    source      = \"0.0.0.0/0\"\n",
    "    source_type = \"CIDR_BLOCK\"\n",
    "\n",
    "    # Allow SSH (TCP port 22)\n",
    "    protocol = \"6\"  # TCP\n",
    "    tcp_options {\n",
    "      min = 22\n",
    "      max = 22\n",
    "    }\n",
    "  }\n",
    "\n",
    "    \n",
    "  ingress_security_rules {\n",
    "    stateless   = false\n",
    "    source      = \"0.0.0.0/0\"\n",
    "    source_type = \"CIDR_BLOCK\"\n",
    "\n",
    "    # Allow HTTP (TCP port 80)\n",
    "    protocol = \"6\"  # TCP\n",
    "    tcp_options {\n",
    "      min = 80\n",
    "      max = 80\n",
    "    }\n",
    "  }\n",
    "\n",
    "    \n",
    "  ingress_security_rules {\n",
    "    stateless   = false\n",
    "    source      = \"0.0.0.0/0\"\n",
    "    source_type = \"CIDR_BLOCK\"\n",
    "\n",
    "    # Allow HTTPS (TCP port 443)\n",
    "    protocol = \"6\"  # TCP\n",
    "    tcp_options {\n",
    "      min = 443\n",
    "      max = 443\n",
    "    }\n",
    " }  \n",
    "\n",
    "\n",
    "}"
   ]
  },
  {
   "cell_type": "markdown",
   "id": "459b062b",
   "metadata": {},
   "source": [
    "### Create a Public Subnet"
   ]
  },
  {
   "cell_type": "code",
   "execution_count": null,
   "id": "228df685",
   "metadata": {},
   "outputs": [],
   "source": [
    "%%writefile ./tf-vcn/public-subnet.tf\n",
    "\n",
    "\n",
    "# Source from https://registry.terraform.io/providers/oracle/oci/latest/docs/resources/core_subnet\n",
    "# https://docs.oracle.com/en-us/iaas/tools/terraform-provider-oci/5.24/docs/r/core_subnet.html\n",
    "\n",
    "resource \"oci_core_subnet\" \"vcn-public-subnet\"{\n",
    "\n",
    "  # Required\n",
    "  compartment_id = var.compartment_id\n",
    "  vcn_id         = oci_core_vcn.vcn.id\n",
    "  cidr_block     = \"10.0.0.0/24\"\n",
    " \n",
    "  # Optional\n",
    "  route_table_id      = oci_core_route_table.public-route-table.id\n",
    "  security_list_ids   = [oci_core_security_list.public-security-list.id]\n",
    "  display_name        = \"public-subnet\"\n",
    "  dns_label           = \"public\"\n",
    "}"
   ]
  },
  {
   "cell_type": "markdown",
   "id": "12663838",
   "metadata": {},
   "source": [
    "### Create Internet Gateway"
   ]
  },
  {
   "cell_type": "code",
   "execution_count": null,
   "id": "4089c983",
   "metadata": {},
   "outputs": [],
   "source": [
    "%%writefile ./tf-vcn/internet-gateway.tf\n",
    "\n",
    "\n",
    "resource \"oci_core_internet_gateway\" \"internet-gateway\" {\n",
    "  compartment_id = var.compartment_id\n",
    "  display_name = \"internet-gateway\"\n",
    "  vcn_id = oci_core_vcn.vcn.id\n",
    "}"
   ]
  },
  {
   "cell_type": "markdown",
   "id": "90b26f02",
   "metadata": {},
   "source": [
    "### Create Public Subnet Route Table"
   ]
  },
  {
   "cell_type": "code",
   "execution_count": null,
   "id": "7194eb50",
   "metadata": {},
   "outputs": [],
   "source": [
    "%%writefile ./tf-vcn/public-route-table.tf\n",
    "\n",
    "\n",
    "resource \"oci_core_route_table\" \"public-route-table\" {\n",
    "\n",
    "  compartment_id = var.compartment_id\n",
    "  vcn_id = oci_core_vcn.vcn.id\n",
    "  display_name = \"public-route-table\"\n",
    "\n",
    "  route_rules {\n",
    "    destination_type = \"CIDR_BLOCK\"\n",
    "    destination = \"0.0.0.0/0\"\n",
    "    network_entity_id = oci_core_internet_gateway.internet-gateway.id\n",
    "  }\n",
    "}"
   ]
  },
  {
   "cell_type": "markdown",
   "id": "8830526e",
   "metadata": {},
   "source": [
    "### Variables"
   ]
  },
  {
   "cell_type": "code",
   "execution_count": null,
   "id": "569c9345",
   "metadata": {},
   "outputs": [],
   "source": [
    "%%writefile ./tf-vcn/variables.tf\n",
    "\n",
    "\n",
    "variable \"compartment_id\" {\n",
    "  # This is the ID of the compartment you created earlier.\n",
    "  # Check your compartment output  \n",
    "  description = \"Compartment ID\"    \n",
    "  type        = string\n",
    "  default     = \"<compartment-ocid>\"\n",
    "}"
   ]
  },
  {
   "cell_type": "code",
   "execution_count": null,
   "id": "f8f00c9f",
   "metadata": {},
   "outputs": [],
   "source": [
    "!code ./tf-vcn/variables.tf"
   ]
  },
  {
   "cell_type": "markdown",
   "id": "9a7f1d63",
   "metadata": {},
   "source": [
    "### Outputs"
   ]
  },
  {
   "cell_type": "code",
   "execution_count": null,
   "id": "033d4caa",
   "metadata": {},
   "outputs": [],
   "source": [
    "%%writefile ./tf-vcn/outputs.tf\n",
    " \n",
    "\n",
    "# Outputs for public security list\n",
    "output \"public-security-list-name\" {\n",
    "  value = oci_core_security_list.public-security-list.display_name\n",
    "}\n",
    "output \"public-security-list-OCID\" {\n",
    "  value = oci_core_security_list.public-security-list.id\n",
    "}\n",
    "\n",
    "\n",
    "# Outputs for public subnet\n",
    "output \"public-subnet-name\" {\n",
    "  value = oci_core_subnet.vcn-public-subnet.display_name\n",
    "}\n",
    "output \"public-subnet-OCID\" {\n",
    "  value = oci_core_subnet.vcn-public-subnet.id\n",
    "}\n"
   ]
  },
  {
   "cell_type": "markdown",
   "id": "5bd34d21",
   "metadata": {},
   "source": [
    "## Run Scripts"
   ]
  },
  {
   "cell_type": "code",
   "execution_count": 14,
   "id": "9d5e549f",
   "metadata": {},
   "outputs": [
    {
     "name": "stdout",
     "output_type": "stream",
     "text": [
      "/home/harley/cloud/oci-notebook-adb\r\n"
     ]
    }
   ],
   "source": [
    "!pwd"
   ]
  },
  {
   "cell_type": "code",
   "execution_count": null,
   "id": "a804b58c",
   "metadata": {},
   "outputs": [],
   "source": [
    "!(cd tf-vcn && ls -al) "
   ]
  },
  {
   "cell_type": "code",
   "execution_count": null,
   "id": "91821764",
   "metadata": {},
   "outputs": [],
   "source": [
    "!(cd tf-vcn && tofu init) "
   ]
  },
  {
   "cell_type": "code",
   "execution_count": null,
   "id": "53fa7295",
   "metadata": {},
   "outputs": [],
   "source": [
    "!(cd tf-vcn && tofu validate)"
   ]
  },
  {
   "cell_type": "code",
   "execution_count": null,
   "id": "a7196bfb",
   "metadata": {},
   "outputs": [],
   "source": [
    "!(cd tf-vcn && tofu plan -input=false)"
   ]
  },
  {
   "cell_type": "code",
   "execution_count": null,
   "id": "1403061f",
   "metadata": {},
   "outputs": [],
   "source": [
    "!(cd tf-vcn && tofu apply -input=false -auto-approve)"
   ]
  },
  {
   "cell_type": "code",
   "execution_count": null,
   "id": "f59d5fc4",
   "metadata": {},
   "outputs": [],
   "source": [
    "!(cd tf-vcn && tofu output)"
   ]
  },
  {
   "cell_type": "markdown",
   "id": "b44108ec",
   "metadata": {},
   "source": [
    "# Create an Autonomous Database"
   ]
  },
  {
   "cell_type": "markdown",
   "id": "92173c7c",
   "metadata": {},
   "source": [
    "## Create Scripts"
   ]
  },
  {
   "cell_type": "code",
   "execution_count": null,
   "id": "151601de",
   "metadata": {},
   "outputs": [],
   "source": [
    "!mkdir tf-database"
   ]
  },
  {
   "cell_type": "code",
   "execution_count": null,
   "id": "54f2c545",
   "metadata": {},
   "outputs": [],
   "source": [
    "!cp ./tf-provider/provider.tf ./tf-database/provider.tf "
   ]
  },
  {
   "cell_type": "code",
   "execution_count": null,
   "id": "bb71b503",
   "metadata": {},
   "outputs": [],
   "source": [
    "%%writefile ./tf-database/database.tf\n",
    "\n",
    "# https://docs.oracle.com/en-us/iaas/tools/terraform-provider-oci/5.24/docs/r/database_autonomous_database.html\n",
    "# https://hiteshgondalia.wordpress.com/2020/01/15/launch-oci-free-tier-atp-and-adw-using-terraform-on-window-platform/\n",
    "\n",
    "resource \"random_string\" \"autonomous_database_admin_password\" {\n",
    "  length      = 28\n",
    "  min_numeric = 1\n",
    "  min_lower   = 1\n",
    "  min_upper   = 1\n",
    "  min_special = 1\n",
    "}\n",
    "\n",
    "resource \"oci_database_autonomous_database\" \"autonomous_database\" {\n",
    "    \n",
    "  # Required\n",
    "  compartment_id           = \"<compartment-ocid>\"\n",
    "  db_name                  = \"<your-autonomous-database-name>\"\n",
    "    \n",
    "  # Optional\n",
    "  admin_password           = \"${random_string.autonomous_database_admin_password.result}\"\n",
    "  cpu_core_count           = 1\n",
    "  data_storage_size_in_tbs = 1\n",
    "  display_name             = \"<display-name>\"\n",
    "  is_free_tier             = true\n",
    "  # subnet_id breaks the free tier compatibility\n",
    "  # subnet_id                = \"<oci_core_subnet.subnet-id>\"\n",
    "}\n"
   ]
  },
  {
   "cell_type": "code",
   "execution_count": null,
   "id": "8e6ee5ac",
   "metadata": {},
   "outputs": [],
   "source": [
    "!code ./tf-database/database.tf"
   ]
  },
  {
   "cell_type": "code",
   "execution_count": null,
   "id": "94f27e4e",
   "metadata": {},
   "outputs": [],
   "source": [
    "%%writefile ./tf-database/outputs.tf\n",
    "\n",
    "\n",
    "output \"autonomous_database_connection\" {\n",
    "  value = oci_database_autonomous_database.autonomous_database.connection_strings\n",
    "}\n",
    "\n",
    "output \"autonomous_database_admin_password\" {\n",
    "  value = \"${random_string.autonomous_database_admin_password.result}\"\n",
    "}\n",
    "\n",
    "output \"autonomous_database_high_connection_string\" {\n",
    "  value = \"${lookup(oci_database_autonomous_database.autonomous_database.connection_strings.0.all_connection_strings, \"high\", \"unavailable\")}\"\n",
    "}\n"
   ]
  },
  {
   "cell_type": "markdown",
   "id": "1068db3a",
   "metadata": {},
   "source": [
    "## Run Scripts"
   ]
  },
  {
   "cell_type": "code",
   "execution_count": null,
   "id": "74765a4c",
   "metadata": {},
   "outputs": [],
   "source": [
    "!pwd"
   ]
  },
  {
   "cell_type": "code",
   "execution_count": null,
   "id": "9279e30e",
   "metadata": {},
   "outputs": [],
   "source": [
    "!(cd tf-database && ls -al) "
   ]
  },
  {
   "cell_type": "code",
   "execution_count": null,
   "id": "0ccac3b7",
   "metadata": {},
   "outputs": [],
   "source": [
    "!(cd tf-database && tofu init) "
   ]
  },
  {
   "cell_type": "code",
   "execution_count": null,
   "id": "8a8a330f",
   "metadata": {},
   "outputs": [],
   "source": [
    "!(cd tf-database && tofu validate)"
   ]
  },
  {
   "cell_type": "code",
   "execution_count": null,
   "id": "95ab8c1e",
   "metadata": {},
   "outputs": [],
   "source": [
    "!(cd tf-database && tofu plan -input=false)"
   ]
  },
  {
   "cell_type": "code",
   "execution_count": null,
   "id": "ae8d8dce",
   "metadata": {},
   "outputs": [],
   "source": [
    "!(cd tf-database && tofu apply -input=false -auto-approve)"
   ]
  },
  {
   "cell_type": "code",
   "execution_count": null,
   "id": "733e9f17",
   "metadata": {},
   "outputs": [],
   "source": [
    "!(cd tf-database && tofu output)"
   ]
  },
  {
   "cell_type": "markdown",
   "id": "16c91156",
   "metadata": {},
   "source": [
    "## SQL"
   ]
  },
  {
   "cell_type": "markdown",
   "id": "439d18bb",
   "metadata": {},
   "source": [
    "In the OCI console choose Database actions -->> SQL"
   ]
  },
  {
   "cell_type": "markdown",
   "id": "91387f7d",
   "metadata": {},
   "source": [
    "```sql\n",
    "CREATE USER bob IDENTIFIED BY EO750FAS7F6Tvpzx;\n",
    "```"
   ]
  },
  {
   "cell_type": "markdown",
   "id": "394d35fc",
   "metadata": {},
   "source": [
    "``` sql\n",
    "CREATE TABLE accounts (\n",
    "  user_id NUMBER GENERATED BY DEFAULT ON NULL AS IDENTITY,\n",
    "  email VARCHAR2(50),\n",
    "  password VARCHAR2(50),\n",
    "  CONSTRAINT accounts_pk PRIMARY KEY (user_id)\n",
    ");\n",
    "```"
   ]
  },
  {
   "cell_type": "markdown",
   "id": "faf019bc",
   "metadata": {},
   "source": [
    "``` sql\n",
    "CREATE TABLE pets (\n",
    "  pet_id NUMBER GENERATED BY DEFAULT ON NULL AS IDENTITY,\n",
    "  user_id NUMBER NOT NULL,\n",
    "  image BLOB NOT NULL,\n",
    "  type VARCHAR2(255) NOT NULL,\n",
    "  breed VARCHAR2(255) NOT NULL,\n",
    "  dob DATE NOT NULL,\n",
    "  CONSTRAINT pets_pk PRIMARY KEY (pet_id),\n",
    "  CONSTRAINT fk_accounts FOREIGN KEY (user_id) \n",
    "  REFERENCES accounts (user_id) \n",
    "  ON DELETE CASCADE \n",
    ");\n",
    "```"
   ]
  },
  {
   "cell_type": "markdown",
   "id": "1f7bfc59",
   "metadata": {},
   "source": [
    "```sql\n",
    "INSERT INTO accounts (email, password)\n",
    "VALUES ('alice@here.com', 'd#n4vcwo2pfw4DSF6onKDSwn');\n",
    "```"
   ]
  },
  {
   "cell_type": "markdown",
   "id": "d97c6abe",
   "metadata": {},
   "source": [
    "```sql\n",
    "INSERT INTO accounts (email, password)\n",
    "VALUES ('bob@here.com', 'd#n4vcwo2pfw4DSF6onKDSwn');\n",
    "```"
   ]
  },
  {
   "cell_type": "markdown",
   "id": "4280fdc5",
   "metadata": {},
   "source": [
    "```sql\n",
    "INSERT INTO accounts (email, password)\n",
    "VALUES ('eve@here.com', 'd#n4vcwo2pfw4DSF6onKDSwn');\n",
    "```"
   ]
  },
  {
   "cell_type": "markdown",
   "id": "282be781",
   "metadata": {},
   "source": [
    "``` sql\n",
    "GRANT SELECT, INSERT, UPDATE, DELETE ON ACCOUNTS TO BOB;\n",
    "```"
   ]
  },
  {
   "cell_type": "markdown",
   "id": "1bc149db",
   "metadata": {},
   "source": [
    "``` sql\n",
    "GRANT SELECT, INSERT, UPDATE, DELETE ON PETS TO BOB;\n",
    "```"
   ]
  },
  {
   "cell_type": "markdown",
   "id": "4c917a54",
   "metadata": {},
   "source": [
    "# Create a Compute Instance\n",
    "\n",
    "[Create a Compute Instance](https://docs.oracle.com/en-us/iaas/developer-tutorials/tutorials/tf-compute/01-summary.htm)"
   ]
  },
  {
   "cell_type": "markdown",
   "id": "6e070295",
   "metadata": {},
   "source": [
    "## Create SSH Encryption Keys"
   ]
  },
  {
   "cell_type": "markdown",
   "id": "1d0f4813",
   "metadata": {},
   "source": [
    "Execute the following command in the terminal:"
   ]
  },
  {
   "cell_type": "code",
   "execution_count": null,
   "id": "eed57b33",
   "metadata": {},
   "outputs": [],
   "source": [
    "!ssh-keygen -t rsa -b 2048 -C \"\" -f ~/.ssh/oci_key"
   ]
  },
  {
   "cell_type": "markdown",
   "id": "016969f0",
   "metadata": {},
   "source": [
    "## Create Scripts"
   ]
  },
  {
   "cell_type": "code",
   "execution_count": null,
   "id": "b5d79a72",
   "metadata": {},
   "outputs": [],
   "source": [
    "!mkdir tf-compute"
   ]
  },
  {
   "cell_type": "code",
   "execution_count": null,
   "id": "8f5fc750",
   "metadata": {},
   "outputs": [],
   "source": [
    "!cp ./tf-provider/provider.tf ./tf-compute/provider.tf "
   ]
  },
  {
   "cell_type": "code",
   "execution_count": null,
   "id": "13c577bd",
   "metadata": {},
   "outputs": [],
   "source": [
    "!cp ./tf-provider/availability-domains.tf ./tf-compute/availability-domains.tf"
   ]
  },
  {
   "cell_type": "code",
   "execution_count": null,
   "id": "1ebfe908",
   "metadata": {},
   "outputs": [],
   "source": [
    "%%writefile ./tf-compute/compute.tf\n",
    "\n",
    "\n",
    "resource \"oci_core_instance\" \"webserver_instance\" {\n",
    "  # Required\n",
    "  availability_domain = data.oci_identity_availability_domains.ads.availability_domains[0].name\n",
    "  compartment_id = \"<compartment-ocid>\"\n",
    "  shape = \"VM.Standard.E2.1.Micro\"\n",
    "  source_details {\n",
    "    # https://docs.oracle.com/en-us/iaas/images/ \n",
    "    # I used Canonical-Ubuntu-22.04-Minimal  \n",
    "    source_id = \"<source-ocid>\"\n",
    "    source_type = \"image\"\n",
    "  }\n",
    "\n",
    "  # Optional\n",
    "  display_name = \"<your-ubuntu-instance-name>\"\n",
    "  create_vnic_details {\n",
    "    assign_public_ip = true\n",
    "    # Public subnet\n",
    "    subnet_id = \"<subnet-ocid>\"\n",
    "  }\n",
    "  metadata = {\n",
    "    ssh_authorized_keys = file(\"<ssh-public-key-path>\")\n",
    "  } \n",
    "  preserve_boot_volume = false\n",
    "}"
   ]
  },
  {
   "cell_type": "code",
   "execution_count": 29,
   "id": "268ba6fe",
   "metadata": {},
   "outputs": [],
   "source": [
    "!code ./tf-compute/compute.tf "
   ]
  },
  {
   "cell_type": "code",
   "execution_count": null,
   "id": "e3b8b8ff",
   "metadata": {},
   "outputs": [],
   "source": [
    "%%writefile ./tf-compute/outputs.tf\n",
    "\n",
    "\n",
    "# The \"name\" of the availability domain to be used for the compute instance.\n",
    "output \"name-of-first-availability-domain\" {\n",
    "  value = data.oci_identity_availability_domains.ads.availability_domains[0].name\n",
    "}\n",
    "\n",
    "# Outputs for compute instance\n",
    "output \"public-ip-for-compute-instance\" {\n",
    "  value = oci_core_instance.webserver_instance.public_ip\n",
    "}\n",
    "\n",
    "output \"instance-name\" {\n",
    "  value = oci_core_instance.webserver_instance.display_name\n",
    "}\n",
    "\n",
    "output \"instance-OCID\" {\n",
    "  value = oci_core_instance.webserver_instance.id\n",
    "}\n",
    "\n",
    "output \"instance-region\" {\n",
    "  value = oci_core_instance.webserver_instance.region\n",
    "}\n",
    "\n",
    "output \"instance-shape\" {\n",
    "  value = oci_core_instance.webserver_instance.shape\n",
    "}\n",
    "\n",
    "output \"instance-state\" {\n",
    "  value = oci_core_instance.webserver_instance.state\n",
    "}\n",
    "\n",
    "output \"instance-OCPUs\" {\n",
    "  value = oci_core_instance.webserver_instance.shape_config[0].ocpus\n",
    "}\n",
    "\n",
    "output \"instance-memory-in-GBs\" {\n",
    "  value = oci_core_instance.webserver_instance.shape_config[0].memory_in_gbs\n",
    "}\n",
    "\n",
    "output \"time-created\" {\n",
    "  value = oci_core_instance.webserver_instance.time_created\n",
    "}"
   ]
  },
  {
   "cell_type": "code",
   "execution_count": 33,
   "id": "db40495d",
   "metadata": {},
   "outputs": [],
   "source": [
    "!code ./tf-compute/outputs.tf "
   ]
  },
  {
   "cell_type": "markdown",
   "id": "8f1f6150",
   "metadata": {},
   "source": [
    "## Run Scripts"
   ]
  },
  {
   "cell_type": "code",
   "execution_count": null,
   "id": "d0feabf2",
   "metadata": {},
   "outputs": [],
   "source": [
    "!pwd"
   ]
  },
  {
   "cell_type": "code",
   "execution_count": null,
   "id": "545c5f25",
   "metadata": {},
   "outputs": [],
   "source": [
    "!(cd tf-compute && ls -al) "
   ]
  },
  {
   "cell_type": "code",
   "execution_count": null,
   "id": "47ec9af1",
   "metadata": {},
   "outputs": [],
   "source": [
    "!(cd tf-compute && tofu init) "
   ]
  },
  {
   "cell_type": "code",
   "execution_count": null,
   "id": "880c7bc8",
   "metadata": {},
   "outputs": [],
   "source": [
    "!(cd tf-compute && tofu validate)"
   ]
  },
  {
   "cell_type": "code",
   "execution_count": null,
   "id": "832af66d",
   "metadata": {},
   "outputs": [],
   "source": [
    "!(cd tf-compute && tofu plan -input=false)"
   ]
  },
  {
   "cell_type": "code",
   "execution_count": null,
   "id": "7968290b",
   "metadata": {},
   "outputs": [],
   "source": [
    "!(cd tf-compute && tofu apply -input=false -auto-approve)"
   ]
  },
  {
   "cell_type": "code",
   "execution_count": null,
   "id": "f6ef1c98",
   "metadata": {},
   "outputs": [],
   "source": [
    "!(cd tf-compute && tofu output)"
   ]
  },
  {
   "cell_type": "markdown",
   "id": "2b19d2ae",
   "metadata": {},
   "source": [
    "## Connect to the Instance"
   ]
  },
  {
   "cell_type": "markdown",
   "id": "1f8a8002",
   "metadata": {},
   "source": [
    "Run the following command in the terminal:"
   ]
  },
  {
   "cell_type": "markdown",
   "id": "572bba37",
   "metadata": {},
   "source": [
    "```bash\n",
    "ssh -i <ssh-private-key-path> ubuntu@<your-public-ip-address>\n",
    "```"
   ]
  },
  {
   "cell_type": "markdown",
   "id": "6a07f8b1",
   "metadata": {},
   "source": [
    "## Set up Apache\n",
    "\n",
    "[Install Apache and PHP on an Oracle Linux Instance](https://docs.oracle.com/en-us/iaas/developer-tutorials/tutorials/apache-on-oracle-linux/01-summary.htm)\n",
    "\n",
    "Run the following command in the webserver terminal:"
   ]
  },
  {
   "cell_type": "markdown",
   "id": "ccf4ff22",
   "metadata": {},
   "source": [
    "```bash\n",
    "sudo su\n",
    "\n",
    "apt update\n",
    "apt -y install apache2\n",
    "systemctl restart apache2\n",
    "\n",
    "iptables -I INPUT 6 -m state --state NEW -p tcp --dport 80 -j ACCEPT\n",
    "iptables -I INPUT 6 -m state --state NEW -p tcp --dport 443 -j ACCEPT\n",
    "netfilter-persistent save\n",
    "```"
   ]
  },
  {
   "cell_type": "markdown",
   "id": "26c30086",
   "metadata": {},
   "source": [
    "In the browser, connect to http://your-public-ip-address"
   ]
  },
  {
   "cell_type": "markdown",
   "id": "f8ccb25a",
   "metadata": {},
   "source": [
    "## Set up PHP\n",
    "\n",
    "Run the following command in the webserver terminal:"
   ]
  },
  {
   "cell_type": "markdown",
   "id": "f5ce4973",
   "metadata": {},
   "source": [
    "```bash\n",
    "apt -y install php libapache2-mod-php\n",
    "php -v\n",
    "systemctl restart apache2\n",
    "\n",
    "echo '<?php\n",
    "  phpinfo();\n",
    "?>' > /var/www/html/info.php\n",
    "```"
   ]
  },
  {
   "cell_type": "markdown",
   "id": "673d7ff3",
   "metadata": {},
   "source": [
    "In the browser, connect to http://your-public-ip-address/info.php"
   ]
  },
  {
   "cell_type": "markdown",
   "id": "05a3668d",
   "metadata": {},
   "source": [
    "## Connecting PHP to Oracle Database\n",
    "\n",
    "[Oracle Instant Client Downloads for Linux x86-64 (64-bit)\n",
    "](https://www.oracle.com/database/technologies/instant-client/linux-x86-64-downloads.html)\n",
    "\n",
    "Run the following command in the webserver terminal:"
   ]
  },
  {
   "cell_type": "markdown",
   "id": "36adea87",
   "metadata": {},
   "source": [
    "```bash\n",
    "sudo su\n",
    "mkdir /opt/oracle\n",
    "cd /opt/oracle \n",
    "\n",
    "wget https://download.oracle.com/otn_software/linux/instantclient/2112000/instantclient-basiclite-linux.x64-21.12.0.0.0dbru.zip\n",
    "wget https://download.oracle.com/otn_software/linux/instantclient/2112000/instantclient-sdk-linux.x64-21.12.0.0.0dbru.zip\n",
    "    \n",
    "apt-get install unzip  \n",
    "unzip instantclient-basiclite-linux.x64-21.12.0.0.0dbru.zip\n",
    "unzip instantclient-sdk-linux.x64-21.12.0.0.0dbru.zip\n",
    "\n",
    "sh -c \"echo /opt/oracle/instantclient_21_12 > \\\n",
    "      /etc/ld.so.conf.d/oracle-instantclient.conf\"\n",
    "\n",
    "ldconfig\n",
    "\n",
    "apt-get install php-pear\n",
    "apt-get install -y php-dev\n",
    "pecl install oci8-3.2.1\n",
    "```"
   ]
  },
  {
   "cell_type": "markdown",
   "id": "111af512",
   "metadata": {},
   "source": [
    "```\n",
    "'instantclient,/opt/oracle/instantclient_21_12'\n",
    "```"
   ]
  },
  {
   "cell_type": "markdown",
   "id": "a67d5c34",
   "metadata": {},
   "source": [
    "If you get error \"Use PHP OCI8...\" Check here:\n",
    "\n",
    "[oci8 3.2.0](https://pecl.php.net/package/oci8/3.2.0)"
   ]
  },
  {
   "cell_type": "markdown",
   "id": "e0a949b9",
   "metadata": {},
   "source": [
    "```bash\n",
    "cd /usr/lib/php/20210902/\n",
    "\n",
    "echo \"extension = oci8.so\" >> /etc/php/8.1/cli/php.ini\n",
    "echo \"extension = oci8.so\" >> /etc/php/8.1/apache2/php.ini\n",
    "```"
   ]
  },
  {
   "cell_type": "markdown",
   "id": "dd9be4b1",
   "metadata": {},
   "source": [
    "Now reboot your webserver instance:"
   ]
  },
  {
   "cell_type": "markdown",
   "id": "d32976b0",
   "metadata": {},
   "source": [
    "```bash\n",
    "reboot\n",
    "```"
   ]
  },
  {
   "cell_type": "markdown",
   "id": "e9385046",
   "metadata": {},
   "source": [
    "Check info.php in your browser for OCI configuration details."
   ]
  },
  {
   "cell_type": "markdown",
   "id": "ca07fafe",
   "metadata": {},
   "source": [
    "In the Oracle Cloud console, go to your Database details -->> Database connection and download your wallet.\n",
    "\n",
    "Then on your Ubuntu client extract your wallet and change into the wallet directory.\n",
    "\n",
    "Edit sqlnet.ora\n",
    "\n",
    "The text in the file should look like this:"
   ]
  },
  {
   "cell_type": "markdown",
   "id": "09e80067",
   "metadata": {},
   "source": [
    "```\n",
    "WALLET_LOCATION = (SOURCE = (METHOD = file) (METHOD_DATA = (DIRECTORY=\"/opt/wallet\")))\n",
    "SSL_SERVER_DN_MATCH=yes\n",
    "```"
   ]
  },
  {
   "cell_type": "markdown",
   "id": "9132e519",
   "metadata": {},
   "source": [
    "```bash\n",
    "# IMPORTANT! Make sure you are in your wallet directory on your client\n",
    "sftp -i <ssh-private-key-path> ubuntu@<your-public-ip-address>\n",
    "mkdir wallet\n",
    "cd wallet\n",
    "put -r .\n",
    "exit\n",
    "```"
   ]
  },
  {
   "cell_type": "markdown",
   "id": "e48acfb1",
   "metadata": {},
   "source": [
    "```bash\n",
    "ssh -i <ssh-private-key-path> ubuntu@<your-public-ip-address>\n",
    "sudo su\n",
    "mv wallet /opt/\n",
    "exit\n",
    "```"
   ]
  },
  {
   "cell_type": "markdown",
   "id": "39038968",
   "metadata": {},
   "source": [
    "Copy the PHP code below into a file oci8.php updating your credentials and database address:"
   ]
  },
  {
   "cell_type": "markdown",
   "id": "8f77a843",
   "metadata": {},
   "source": [
    "```php\n",
    "<?php\n",
    "\n",
    "error_reporting(E_ALL);\n",
    "ini_set('display_errors', 'On');\n",
    "\n",
    "$conn = oci_connect('USERNAME', 'PASSWORD', 'tcps://adb.ap-melbourne-1.oraclecloud.com:1522/*******_harleys_high.adb.oraclecloud.com?wallet_location=/opt/wallet');\n",
    "\n",
    "if (!$conn) {\n",
    "    $e = oci_error();\n",
    "    trigger_error(htmlentities($e['message'] ?? ''), E_USER_ERROR);\n",
    "}\n",
    "var_dump($conn);\n",
    "\n",
    "\n",
    "// Parse the statement. Note there is no final semi-colon in the SQL statement\n",
    "// https://www.php.net/manual/en/function.oci-parse.php\n",
    "$stid = oci_parse($conn, 'SELECT * FROM ADMIN.ACCOUNTS');\n",
    "if (!$stid) {\n",
    "    $e = oci_error($conn);\n",
    "    trigger_error(htmlentities($e['message'] ?? ''), E_USER_ERROR);\n",
    "}\n",
    "var_dump($stid);\n",
    "\n",
    "\n",
    "// Define variables to store column values\n",
    "oci_define_by_name($stid, 'USER_ID', $column1);\n",
    "oci_define_by_name($stid, 'EMAIL', $column2);\n",
    "oci_define_by_name($stid, 'PASSWORD', $column3);\n",
    "\n",
    "oci_execute($stid);\n",
    "\n",
    "// https://www.php.net/manual/en/function.oci-fetch-array.php\n",
    "// Fetch and display results\n",
    "echo \"<table border='1'>\\n\";\n",
    "while (oci_fetch($stid)) {\n",
    "    echo \"<tr>\\n\";\n",
    "    echo \"    <td>\" . htmlentities($column1 ?? '') . \"</td>\\n\";\n",
    "    echo \"    <td>\" . htmlentities($column2 ?? '') . \"</td>\\n\";\n",
    "    echo \"    <td>\" . htmlentities($column3 ?? '') . \"</td>\\n\";\n",
    "    echo \"</tr>\\n\";\n",
    "}\n",
    "echo \"</table>\\n\";\n",
    "\n",
    "oci_free_statement($stid);\n",
    "oci_close($conn);\n",
    "\n",
    "?>\n",
    "```"
   ]
  },
  {
   "cell_type": "markdown",
   "id": "c141f66d",
   "metadata": {},
   "source": [
    "```bash\n",
    "sftp -i <ssh-private-key-path> ubuntu@<your-public-ip-address>\n",
    "put oci8.php\n",
    "exit\n",
    "```"
   ]
  },
  {
   "cell_type": "markdown",
   "id": "94f21024",
   "metadata": {},
   "source": [
    "```bash\n",
    "sudo su\n",
    "chown root:root oci8.php\n",
    "chmod 644 oci8.php\n",
    "mv oci8.php /var/www/html/\n",
    "exit\n",
    "```"
   ]
  },
  {
   "cell_type": "markdown",
   "id": "796c8f7a",
   "metadata": {},
   "source": [
    "```\n",
    "http://<your-public-ip-address>/oci8.php\n",
    "```"
   ]
  },
  {
   "cell_type": "markdown",
   "id": "5109a7e1",
   "metadata": {},
   "source": [
    "# Destroy Resources"
   ]
  },
  {
   "cell_type": "code",
   "execution_count": null,
   "id": "2c3454dd",
   "metadata": {},
   "outputs": [],
   "source": [
    "!(cd tf-compute && tofu destroy -input=false -auto-approve)"
   ]
  },
  {
   "cell_type": "code",
   "execution_count": null,
   "id": "d0d9393f",
   "metadata": {},
   "outputs": [],
   "source": [
    "!(cd tf-database && tofu destroy -input=false -auto-approve)"
   ]
  },
  {
   "cell_type": "code",
   "execution_count": null,
   "id": "c3770fc4",
   "metadata": {},
   "outputs": [],
   "source": [
    "!(cd tf-vcn && tofu destroy -input=false -auto-approve)"
   ]
  },
  {
   "cell_type": "code",
   "execution_count": null,
   "id": "f6287d2b",
   "metadata": {},
   "outputs": [],
   "source": [
    "!(cd tf-compartment && tofu destroy -input=false -auto-approve)"
   ]
  },
  {
   "cell_type": "code",
   "execution_count": null,
   "id": "f02e6524",
   "metadata": {},
   "outputs": [],
   "source": [
    "!(cd tf-provider && tofu destroy -input=false -auto-approve)"
   ]
  }
 ],
 "metadata": {
  "kernelspec": {
   "display_name": "Python 3 (ipykernel)",
   "language": "python",
   "name": "python3"
  },
  "language_info": {
   "codemirror_mode": {
    "name": "ipython",
    "version": 3
   },
   "file_extension": ".py",
   "mimetype": "text/x-python",
   "name": "python",
   "nbconvert_exporter": "python",
   "pygments_lexer": "ipython3",
   "version": "3.9.13"
  }
 },
 "nbformat": 4,
 "nbformat_minor": 5
}
