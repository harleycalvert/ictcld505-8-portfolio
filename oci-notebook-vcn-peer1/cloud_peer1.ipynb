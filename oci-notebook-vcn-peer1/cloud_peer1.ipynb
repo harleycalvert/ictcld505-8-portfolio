{
 "cells": [
  {
   "cell_type": "markdown",
   "id": "f499967b",
   "metadata": {},
   "source": [
    "# VCN Peering\n",
    "\n",
    "In this exercise we will be using OpenTofu (an open-source fork of Terraform) and Oracle Cloud Infrastructure's Free Tier to peer VCNs.\n",
    "\n",
    "[OpenTofu](https://opentofu.org)\n",
    "\n",
    "[Oracle Cloud Free Tier](https://www.oracle.com/au/cloud/free/)\n",
    "\n",
    "## Authentication\n",
    "\n",
    "When beginning a session you will need to authenticate:\n",
    "\n",
    "```bash\n",
    "oci session authenticate\n",
    "```\n",
    "A session lasts one hour. Don't forget to refresh your session to avoid having to authenticate again.\n"
   ]
  },
  {
   "cell_type": "code",
   "execution_count": null,
   "id": "5906e7e3",
   "metadata": {},
   "outputs": [],
   "source": [
    "!oci session refresh --profile harleycalvert"
   ]
  },
  {
   "cell_type": "markdown",
   "id": "50cfa4d9",
   "metadata": {},
   "source": [
    "# Set Up OCI Terraform\n",
    "\n",
    "[Set Up OCI Terraform](https://docs.oracle.com/en-us/iaas/developer-tutorials/tutorials/tf-provider/01-summary.htm)"
   ]
  },
  {
   "cell_type": "markdown",
   "id": "07abd09a",
   "metadata": {},
   "source": [
    "## Install OpenTofu"
   ]
  },
  {
   "cell_type": "code",
   "execution_count": null,
   "id": "a2f7f9b0",
   "metadata": {},
   "outputs": [],
   "source": [
    "!snap install --classic opentofu"
   ]
  },
  {
   "cell_type": "code",
   "execution_count": null,
   "id": "7bc9765c",
   "metadata": {},
   "outputs": [],
   "source": [
    "!tofu -v"
   ]
  },
  {
   "cell_type": "markdown",
   "id": "854e482b",
   "metadata": {},
   "source": [
    "## Create RSA Keys"
   ]
  },
  {
   "cell_type": "code",
   "execution_count": null,
   "id": "b2b0b9b3",
   "metadata": {},
   "outputs": [],
   "source": [
    "!mkdir $HOME/.oci"
   ]
  },
  {
   "cell_type": "code",
   "execution_count": null,
   "id": "d3ae1660",
   "metadata": {},
   "outputs": [],
   "source": [
    "!openssl genrsa -out $HOME/.oci/oci_rsa_key.pem 2048"
   ]
  },
  {
   "cell_type": "code",
   "execution_count": null,
   "id": "f87be0cd",
   "metadata": {},
   "outputs": [],
   "source": [
    "!chmod 600 $HOME/.oci/oci_rsa_key.pem"
   ]
  },
  {
   "cell_type": "code",
   "execution_count": null,
   "id": "3e76af21",
   "metadata": {},
   "outputs": [],
   "source": [
    "!openssl rsa -pubout -in $HOME/.oci/oci_rsa_key.pem -out $HOME/.oci/oci_rsa_key.pem.pub"
   ]
  },
  {
   "cell_type": "code",
   "execution_count": null,
   "id": "323cd91a",
   "metadata": {},
   "outputs": [],
   "source": [
    "!(cd $HOME/.oci/ && ls)"
   ]
  },
  {
   "cell_type": "code",
   "execution_count": null,
   "id": "893a294d",
   "metadata": {},
   "outputs": [],
   "source": [
    "!cat $HOME/.oci/oci_rsa_key.pem.pub"
   ]
  },
  {
   "cell_type": "markdown",
   "id": "11099f52",
   "metadata": {},
   "source": [
    "Add the public key to your user account.\n",
    "\n",
    "In the OCI Console's top navigation bar, click the Profile menu, and then go to My profile.\n",
    "- Click API Keys.\n",
    "- Click Add API Key.\n",
    "- Select Paste Public Keys.\n",
    "- Paste value from previous step, including the lines with BEGIN PUBLIC KEY and END PUBLIC KEY.\n",
    "- Click Add.\n",
    "- Copy the Configuration file preview.\n",
    "- Paste the Configuration file preview into ~/.oci/config\n",
    "\n",
    "You have now set up the RSA keys to connect to your OCI account."
   ]
  },
  {
   "cell_type": "markdown",
   "id": "c6620ced",
   "metadata": {},
   "source": [
    "## Add API Key-Based Authentication"
   ]
  },
  {
   "cell_type": "code",
   "execution_count": null,
   "id": "8014fcca",
   "metadata": {},
   "outputs": [],
   "source": [
    "!mkdir tf-provider"
   ]
  },
  {
   "cell_type": "markdown",
   "id": "d0e10abe",
   "metadata": {},
   "source": [
    "## Gather Required Information\n",
    "Collect the following credential information from the OCI Console.\n",
    "\n",
    "- Tenancy OCID\n",
    "- User OCID\n",
    "- Fingerprint\n",
    "- Region \n",
    "  - ap-melbourne-1\n",
    "\n",
    "Collect the following information from your environment.\n",
    "\n",
    "- Private Key Path \n",
    "  - /home/harley/.oci/oci_rsa_key.pem\n",
    "  \n",
    "Put the information in provider.tf like so:"
   ]
  },
  {
   "cell_type": "code",
   "execution_count": null,
   "id": "4a4eef6c",
   "metadata": {},
   "outputs": [],
   "source": [
    "%%writefile ./tf-provider/provider.tf\n",
    "\n",
    "\n",
    "provider \"oci\" {  \n",
    "  tenancy_ocid = \"<tenancy-ocid>\"\n",
    "  user_ocid = \"<user-ocid>\" \n",
    "  private_key_path = \"<rsa-private-key-path>\"\n",
    "  fingerprint = \"<fingerprint>\"\n",
    "  region = \"<region-identifier>\"\n",
    "}"
   ]
  },
  {
   "cell_type": "code",
   "execution_count": null,
   "id": "f8290da8",
   "metadata": {},
   "outputs": [],
   "source": [
    "!code ./tf-provider/provider.tf"
   ]
  },
  {
   "cell_type": "code",
   "execution_count": null,
   "id": "95305361",
   "metadata": {},
   "outputs": [],
   "source": [
    "%%writefile ./tf-provider/availability-domains.tf\n",
    "\n",
    "\n",
    "# Source from https://registry.terraform.io/providers/oracle/oci/latest/docs/data-sources/identity_availability_domains\n",
    "\n",
    "# Tenancy is the root or parent to all compartments.\n",
    "# For this, use the value of <tenancy-ocid> for the compartment OCID.\n",
    "\n",
    "data \"oci_identity_availability_domains\" \"ads\" {\n",
    "  compartment_id = \"<tenancy-ocid>\"\n",
    "}"
   ]
  },
  {
   "cell_type": "code",
   "execution_count": null,
   "id": "8823ad76",
   "metadata": {},
   "outputs": [],
   "source": [
    "!code ./tf-provider/availability-domains.tf"
   ]
  },
  {
   "cell_type": "code",
   "execution_count": null,
   "id": "cddfb9d3",
   "metadata": {},
   "outputs": [],
   "source": [
    "%%writefile ./tf-provider/outputs.tf\n",
    "\n",
    "\n",
    "# Output the \"list\" of all availability domains.\n",
    "output \"all-availability-domains-in-your-tenancy\" {\n",
    "  value = data.oci_identity_availability_domains.ads.availability_domains\n",
    "}"
   ]
  },
  {
   "cell_type": "code",
   "execution_count": null,
   "id": "ba7acc5e",
   "metadata": {},
   "outputs": [],
   "source": [
    "!code ./tf-provider/outputs.tf"
   ]
  },
  {
   "cell_type": "markdown",
   "id": "57951b0d",
   "metadata": {},
   "source": [
    "## Run Scripts"
   ]
  },
  {
   "cell_type": "code",
   "execution_count": null,
   "id": "b4b428d8",
   "metadata": {},
   "outputs": [],
   "source": [
    "!pwd"
   ]
  },
  {
   "cell_type": "code",
   "execution_count": null,
   "id": "697874e7",
   "metadata": {},
   "outputs": [],
   "source": [
    "!(cd tf-provider && tofu init) "
   ]
  },
  {
   "cell_type": "code",
   "execution_count": null,
   "id": "8183ed9b",
   "metadata": {},
   "outputs": [],
   "source": [
    "!(cd tf-provider && ls -al) "
   ]
  },
  {
   "cell_type": "code",
   "execution_count": null,
   "id": "14e7063c",
   "metadata": {},
   "outputs": [],
   "source": [
    "!(cd tf-provider && tree .) "
   ]
  },
  {
   "cell_type": "code",
   "execution_count": null,
   "id": "1ced21fd",
   "metadata": {},
   "outputs": [],
   "source": [
    "!(cd tf-provider && tofu validate)"
   ]
  },
  {
   "cell_type": "code",
   "execution_count": null,
   "id": "71208478",
   "metadata": {},
   "outputs": [],
   "source": [
    "!(cd tf-provider && tofu plan -input=false)"
   ]
  },
  {
   "cell_type": "code",
   "execution_count": null,
   "id": "f79e41a7",
   "metadata": {},
   "outputs": [],
   "source": [
    "!(cd tf-provider && tofu apply -input=false -auto-approve)"
   ]
  },
  {
   "cell_type": "code",
   "execution_count": null,
   "id": "2ab996a0",
   "metadata": {},
   "outputs": [],
   "source": [
    "!(cd tf-provider && tofu output)"
   ]
  },
  {
   "cell_type": "markdown",
   "id": "53b1946b",
   "metadata": {},
   "source": [
    "# Create a Compartment\n",
    "\n",
    "[Create a Compartment](https://docs.oracle.com/en-us/iaas/developer-tutorials/tutorials/tf-compartment/01-summary.htm)"
   ]
  },
  {
   "cell_type": "markdown",
   "id": "1a486dc8",
   "metadata": {},
   "source": [
    "## Create Scripts"
   ]
  },
  {
   "cell_type": "code",
   "execution_count": null,
   "id": "e64a7b57",
   "metadata": {},
   "outputs": [],
   "source": [
    "!mkdir ./tf-compartment"
   ]
  },
  {
   "cell_type": "code",
   "execution_count": null,
   "id": "2807c0c1",
   "metadata": {},
   "outputs": [],
   "source": [
    "!cp ./tf-provider/provider.tf ./tf-compartment/provider.tf "
   ]
  },
  {
   "cell_type": "code",
   "execution_count": null,
   "id": "3e95f483",
   "metadata": {},
   "outputs": [],
   "source": [
    "%%writefile ./tf-compartment/compartment.tf\n",
    "\n",
    "\n",
    "resource \"oci_identity_compartment\" \"tf-compartment\" {\n",
    "    # Required\n",
    "    compartment_id = \"<tenancy-ocid>\"\n",
    "    description = \"<your-description>\"\n",
    "    name = \"<your-compartment-name>\"\n",
    "}"
   ]
  },
  {
   "cell_type": "markdown",
   "id": "416b92be",
   "metadata": {},
   "source": [
    "Replace your-compartment-name with a name of your choice."
   ]
  },
  {
   "cell_type": "code",
   "execution_count": null,
   "id": "a3890e68",
   "metadata": {},
   "outputs": [],
   "source": [
    "!code ./tf-compartment/compartment.tf"
   ]
  },
  {
   "cell_type": "code",
   "execution_count": null,
   "id": "590fdef1",
   "metadata": {},
   "outputs": [],
   "source": [
    "%%writefile ./tf-compartment/outputs.tf\n",
    "\n",
    "\n",
    "# Outputs for compartment\n",
    "output \"compartment-name\" {\n",
    "  value = oci_identity_compartment.tf-compartment.name\n",
    "}\n",
    "\n",
    "output \"compartment-OCID\" {\n",
    "  value = oci_identity_compartment.tf-compartment.id\n",
    "}"
   ]
  },
  {
   "cell_type": "code",
   "execution_count": null,
   "id": "c963a018",
   "metadata": {},
   "outputs": [],
   "source": [
    "!code ./tf-compartment/outputs.tf"
   ]
  },
  {
   "cell_type": "markdown",
   "id": "d1bfaa26",
   "metadata": {},
   "source": [
    "## Run Scripts"
   ]
  },
  {
   "cell_type": "code",
   "execution_count": null,
   "id": "f12bd4eb",
   "metadata": {},
   "outputs": [],
   "source": [
    "!pwd"
   ]
  },
  {
   "cell_type": "code",
   "execution_count": null,
   "id": "bf2ffa73",
   "metadata": {},
   "outputs": [],
   "source": [
    "!(cd tf-compartment && ls -al) "
   ]
  },
  {
   "cell_type": "code",
   "execution_count": null,
   "id": "8e030cb2",
   "metadata": {},
   "outputs": [],
   "source": [
    "!(cd tf-compartment && tree .) "
   ]
  },
  {
   "cell_type": "code",
   "execution_count": null,
   "id": "ad795a6f",
   "metadata": {},
   "outputs": [],
   "source": [
    "!(cd tf-compartment && tofu init) "
   ]
  },
  {
   "cell_type": "code",
   "execution_count": null,
   "id": "ad37a8cd",
   "metadata": {},
   "outputs": [],
   "source": [
    "!(cd tf-compartment && tofu validate)"
   ]
  },
  {
   "cell_type": "code",
   "execution_count": null,
   "id": "1bb7b96b",
   "metadata": {},
   "outputs": [],
   "source": [
    "!(cd tf-compartment && tofu plan -input=false)"
   ]
  },
  {
   "cell_type": "code",
   "execution_count": null,
   "id": "01a278d0",
   "metadata": {},
   "outputs": [],
   "source": [
    "!(cd tf-compartment && tofu apply -input=false -auto-approve)"
   ]
  },
  {
   "cell_type": "code",
   "execution_count": null,
   "id": "12036065",
   "metadata": {},
   "outputs": [],
   "source": [
    "!(cd tf-compartment && tofu output)"
   ]
  },
  {
   "cell_type": "markdown",
   "id": "d5475499",
   "metadata": {},
   "source": [
    "# Create a Virtual Cloud Network\n",
    "\n",
    "[Create a Virtual Cloud Network](https://docs.oracle.com/en-us/iaas/developer-tutorials/tutorials/tf-vcn/01-summary.htm)\n",
    "\n",
    "[VCN (basics)](https://isaac-exe.gitbook.io/various-tutorials/tutorials/untitled/vcn-basics)"
   ]
  },
  {
   "cell_type": "markdown",
   "id": "c4ec5266",
   "metadata": {},
   "source": [
    "## Create a Basic Network"
   ]
  },
  {
   "cell_type": "code",
   "execution_count": null,
   "id": "e2487796",
   "metadata": {},
   "outputs": [],
   "source": [
    "!mkdir ./tf-vcn"
   ]
  },
  {
   "cell_type": "code",
   "execution_count": null,
   "id": "36e42410",
   "metadata": {},
   "outputs": [],
   "source": [
    "!cp ./tf-provider/provider.tf ./tf-vcn/provider.tf "
   ]
  },
  {
   "cell_type": "code",
   "execution_count": null,
   "id": "f1eb09c8",
   "metadata": {},
   "outputs": [],
   "source": [
    "%%writefile ./tf-vcn/vcn.tf\n",
    "\n",
    "\n",
    "# https://github.com/oracle-terraform-modules/terraform-oci-vcn\n",
    "\n",
    "resource \"oci_core_vcn\" \"vcn\" {\n",
    "  # We still allow module users to declare a cidr using `vcn_cidr` instead of the now recommended `vcn_cidrs`, but internally we map both to `cidr_blocks`\n",
    "  # The module always use the new list of string structure and let the customer update his module definition block at his own pace.\n",
    "  cidr_blocks    = [\"10.0.0.0/16\"]\n",
    "  compartment_id = var.compartment_id\n",
    "  display_name   = \"vcn\"\n",
    "  dns_label      = \"vcn\"\n",
    "  is_ipv6enabled = false\n",
    "\n",
    "  freeform_tags = {\n",
    "    terraformed = \"Please do not edit manually\"\n",
    "    module      = \"oracle-terraform-modules/vcn/oci\"\n",
    "  }\n",
    "    \n",
    "  defined_tags  = null\n",
    "\n",
    "  lifecycle {\n",
    "    ignore_changes = [defined_tags, dns_label, freeform_tags]\n",
    "  }\n",
    "}"
   ]
  },
  {
   "cell_type": "markdown",
   "id": "dec925ca",
   "metadata": {},
   "source": [
    "## Customise the Network"
   ]
  },
  {
   "cell_type": "markdown",
   "id": "a42f4fe0",
   "metadata": {},
   "source": [
    "### Create a Security List for the Public Subnet"
   ]
  },
  {
   "cell_type": "code",
   "execution_count": null,
   "id": "2c0ffa2d",
   "metadata": {},
   "outputs": [],
   "source": [
    "%%writefile ./tf-vcn/public-security-list.tf\n",
    "\n",
    "\n",
    "# Source from https://registry.terraform.io/providers/oracle/oci/latest/docs/resources/core_security_list\n",
    "\n",
    "resource \"oci_core_security_list\" \"public-security-list\"{\n",
    "\n",
    "# Required\n",
    "  compartment_id = var.compartment_id\n",
    "  vcn_id = oci_core_vcn.vcn.id\n",
    "\n",
    "# Optional\n",
    "  display_name = \"security-list-for-public-subnet\"\n",
    "    \n",
    "  \n",
    "  egress_security_rules {\n",
    "    stateless = false\n",
    "    destination = \"0.0.0.0/0\"\n",
    "    destination_type = \"CIDR_BLOCK\"\n",
    "    protocol = \"all\" \n",
    "  }\n",
    "\n",
    " \n",
    "  ingress_security_rules {\n",
    "    stateless   = false\n",
    "    source      = \"0.0.0.0/0\"\n",
    "    source_type = \"CIDR_BLOCK\"\n",
    "\n",
    "    # Allow SSH (TCP port 22)\n",
    "    protocol = \"6\"  # TCP\n",
    "    tcp_options {\n",
    "      min = 22\n",
    "      max = 22\n",
    "    }\n",
    "  }\n",
    "    \n",
    "\n",
    "  ingress_security_rules { \n",
    "    stateless   = false\n",
    "    source      = \"10.1.0.0/16\"\n",
    "    source_type = \"CIDR_BLOCK\"\n",
    "    # Get protocol numbers from https://www.iana.org/assignments/protocol-numbers/protocol-numbers.xhtml ICMP is 1  \n",
    "    protocol    = \"1\"\n",
    "\n",
    "    # For ICMP type and code see: https://www.iana.org/assignments/icmp-parameters/icmp-parameters.xhtml\n",
    "    icmp_options {\n",
    "      type = 8\n",
    "      code = 0  \n",
    "    } \n",
    "  }\n",
    "\n",
    "\n",
    "}"
   ]
  },
  {
   "cell_type": "markdown",
   "id": "62b68d5f",
   "metadata": {},
   "source": [
    "### Create a Public Subnet"
   ]
  },
  {
   "cell_type": "code",
   "execution_count": null,
   "id": "75d089f8",
   "metadata": {},
   "outputs": [],
   "source": [
    "%%writefile ./tf-vcn/public-subnet.tf\n",
    "\n",
    "\n",
    "# Source from https://registry.terraform.io/providers/oracle/oci/latest/docs/resources/core_subnet\n",
    "# https://docs.oracle.com/en-us/iaas/tools/terraform-provider-oci/5.24/docs/r/core_subnet.html\n",
    "\n",
    "resource \"oci_core_subnet\" \"vcn-public-subnet\"{\n",
    "\n",
    "  # Required\n",
    "  compartment_id = var.compartment_id\n",
    "  vcn_id         = oci_core_vcn.vcn.id\n",
    "  cidr_block     = \"10.0.0.0/24\"\n",
    " \n",
    "  # Optional\n",
    "  route_table_id      = oci_core_route_table.public-route-table.id\n",
    "  security_list_ids   = [oci_core_security_list.public-security-list.id]\n",
    "  display_name        = \"public-subnet\"\n",
    "  dns_label           = \"public\"\n",
    "}"
   ]
  },
  {
   "cell_type": "markdown",
   "id": "80addb53",
   "metadata": {},
   "source": [
    "### Create Internet Gateway"
   ]
  },
  {
   "cell_type": "code",
   "execution_count": null,
   "id": "7c065ef0",
   "metadata": {},
   "outputs": [],
   "source": [
    "%%writefile ./tf-vcn/internet-gateway.tf\n",
    "\n",
    "\n",
    "resource \"oci_core_internet_gateway\" \"internet-gateway\" {\n",
    "  compartment_id = var.compartment_id\n",
    "  display_name = \"internet-gateway\"\n",
    "  vcn_id = oci_core_vcn.vcn.id\n",
    "}"
   ]
  },
  {
   "cell_type": "markdown",
   "id": "56b8c3b5",
   "metadata": {},
   "source": [
    "### Create Public Subnet Route Table"
   ]
  },
  {
   "cell_type": "code",
   "execution_count": null,
   "id": "812745ca",
   "metadata": {},
   "outputs": [],
   "source": [
    "%%writefile ./tf-vcn/public-route-table.tf\n",
    "\n",
    "\n",
    "resource \"oci_core_route_table\" \"public-route-table\" {\n",
    "\n",
    "  compartment_id = var.compartment_id\n",
    "  vcn_id = oci_core_vcn.vcn.id\n",
    "  display_name = \"public-route-table\"\n",
    "\n",
    "  route_rules {\n",
    "    destination_type = \"CIDR_BLOCK\"\n",
    "    destination = \"0.0.0.0/0\"\n",
    "    network_entity_id = oci_core_internet_gateway.internet-gateway.id\n",
    "  }\n",
    "\n",
    "  route_rules {\n",
    "    destination_type = \"CIDR_BLOCK\"\n",
    "    destination = \"10.1.0.0/16\"\n",
    "    network_entity_id = oci_core_local_peering_gateway.local-peering-gateway.id\n",
    "  }\n",
    "    \n",
    "}\n"
   ]
  },
  {
   "cell_type": "markdown",
   "id": "c60a3ead",
   "metadata": {},
   "source": [
    "### Create Local Peering Gateway"
   ]
  },
  {
   "cell_type": "code",
   "execution_count": null,
   "id": "60b50579",
   "metadata": {},
   "outputs": [],
   "source": [
    "%%writefile ./tf-vcn/local-peering-gateway.tf\n",
    "\n",
    "\n",
    "resource \"oci_core_local_peering_gateway\" \"local-peering-gateway\" {\n",
    "  compartment_id = var.compartment_id\n",
    "  display_name   = \"local-peering-gateway\"\n",
    "  vcn_id = oci_core_vcn.vcn.id\n",
    "}"
   ]
  },
  {
   "cell_type": "markdown",
   "id": "50439bdc",
   "metadata": {},
   "source": [
    "### Variables"
   ]
  },
  {
   "cell_type": "code",
   "execution_count": null,
   "id": "bcd57c5c",
   "metadata": {},
   "outputs": [],
   "source": [
    "%%writefile ./tf-vcn/variables.tf\n",
    "\n",
    "\n",
    "variable \"compartment_id\" {\n",
    "  # This is the compartment ID of this VCN.\n",
    "  description = \"Compartment ID\"    \n",
    "  type        = string\n",
    "  default     = \"<compartment-ocid>\"\n",
    "}"
   ]
  },
  {
   "cell_type": "code",
   "execution_count": null,
   "id": "61959e13",
   "metadata": {},
   "outputs": [],
   "source": [
    "!code ./tf-vcn/variables.tf"
   ]
  },
  {
   "cell_type": "markdown",
   "id": "9a7f1d63",
   "metadata": {},
   "source": [
    "### Outputs"
   ]
  },
  {
   "cell_type": "code",
   "execution_count": null,
   "id": "033d4caa",
   "metadata": {},
   "outputs": [],
   "source": [
    "%%writefile ./tf-vcn/outputs.tf\n",
    "\n",
    "\n",
    "# Outputs for public security list\n",
    "output \"public-security-list-name\" {\n",
    "  value = oci_core_security_list.public-security-list.display_name\n",
    "}\n",
    "output \"public-security-list-OCID\" {\n",
    "  value = oci_core_security_list.public-security-list.id\n",
    "}\n",
    "\n",
    "# Outputs for public subnet\n",
    "output \"public-subnet-name\" {\n",
    "  value = oci_core_subnet.vcn-public-subnet.display_name\n",
    "}\n",
    "output \"public-subnet-OCID\" {\n",
    "  value = oci_core_subnet.vcn-public-subnet.id\n",
    "}\n",
    "\n",
    "# Outputs for local peering gateway\n",
    "output \"local-peering-gateway-name\" {\n",
    "  value = oci_core_local_peering_gateway.local-peering-gateway.display_name\n",
    "}\n",
    "output \"local-peering-gateway-OCID\" {\n",
    "  value = oci_core_local_peering_gateway.local-peering-gateway.id\n",
    "}"
   ]
  },
  {
   "cell_type": "code",
   "execution_count": null,
   "id": "af719844",
   "metadata": {},
   "outputs": [],
   "source": [
    "!code ./tf-vcn/outputs.tf"
   ]
  },
  {
   "cell_type": "markdown",
   "id": "5bd34d21",
   "metadata": {},
   "source": [
    "## Run Scripts"
   ]
  },
  {
   "cell_type": "code",
   "execution_count": null,
   "id": "9d5e549f",
   "metadata": {},
   "outputs": [],
   "source": [
    "!pwd"
   ]
  },
  {
   "cell_type": "code",
   "execution_count": null,
   "id": "a804b58c",
   "metadata": {},
   "outputs": [],
   "source": [
    "!(cd tf-vcn && ls -al) "
   ]
  },
  {
   "cell_type": "code",
   "execution_count": null,
   "id": "364216b5",
   "metadata": {},
   "outputs": [],
   "source": [
    "!(cd tf-vcn && tree .) "
   ]
  },
  {
   "cell_type": "code",
   "execution_count": null,
   "id": "91821764",
   "metadata": {},
   "outputs": [],
   "source": [
    "!(cd tf-vcn && tofu init) "
   ]
  },
  {
   "cell_type": "code",
   "execution_count": null,
   "id": "53fa7295",
   "metadata": {},
   "outputs": [],
   "source": [
    "!(cd tf-vcn && tofu validate)"
   ]
  },
  {
   "cell_type": "code",
   "execution_count": null,
   "id": "a7196bfb",
   "metadata": {},
   "outputs": [],
   "source": [
    "!(cd tf-vcn && tofu plan -input=false)"
   ]
  },
  {
   "cell_type": "code",
   "execution_count": null,
   "id": "1403061f",
   "metadata": {},
   "outputs": [],
   "source": [
    "!(cd tf-vcn && tofu apply -input=false -auto-approve)"
   ]
  },
  {
   "cell_type": "code",
   "execution_count": null,
   "id": "f59d5fc4",
   "metadata": {},
   "outputs": [],
   "source": [
    "!(cd tf-vcn && tofu output)"
   ]
  },
  {
   "cell_type": "markdown",
   "id": "89f913c0",
   "metadata": {},
   "source": [
    "# Create a Peer Compute Instance\n",
    "\n",
    "[Create a Compute Instance](https://docs.oracle.com/en-us/iaas/developer-tutorials/tutorials/tf-compute/01-summary.htm)"
   ]
  },
  {
   "cell_type": "markdown",
   "id": "320a37a6",
   "metadata": {},
   "source": [
    "## Create SSH Encryption Keys\n",
    "Execute the following command in the terminal:\n",
    "```bash\n",
    "ssh-keygen -t rsa -b 2048 -C \"\" -f ~/.ssh/peer_1_vm_key\n",
    "```\n",
    "## Create Scripts"
   ]
  },
  {
   "cell_type": "code",
   "execution_count": null,
   "id": "b1ff4004",
   "metadata": {},
   "outputs": [],
   "source": [
    "!mkdir tf-peer_vm"
   ]
  },
  {
   "cell_type": "code",
   "execution_count": null,
   "id": "a0ac2b58",
   "metadata": {},
   "outputs": [],
   "source": [
    "!cp ./tf-provider/provider.tf ./tf-peer_vm/peer_vm.tf "
   ]
  },
  {
   "cell_type": "code",
   "execution_count": null,
   "id": "ae39cb83",
   "metadata": {},
   "outputs": [],
   "source": [
    "!cp ./tf-vcn/variables.tf ./tf-peer_vm/variables.tf "
   ]
  },
  {
   "cell_type": "code",
   "execution_count": null,
   "id": "a1ca9efd",
   "metadata": {},
   "outputs": [],
   "source": [
    "!cp ./tf-provider/availability-domains.tf ./tf-peer_vm/availability-domains.tf"
   ]
  },
  {
   "cell_type": "code",
   "execution_count": null,
   "id": "2748fd15",
   "metadata": {},
   "outputs": [],
   "source": [
    "%%writefile ./tf-peer_vm/peer_vm.tf\n",
    "\n",
    "\n",
    "resource \"oci_core_instance\" \"peer-vm\" {\n",
    "  # Required\n",
    "  availability_domain = data.oci_identity_availability_domains.ads.availability_domains[0].name\n",
    "  compartment_id = var.compartment_id\n",
    "  #shape = \"VM.Standard.E2.1.Micro\"  # AMD\n",
    "  shape = \"VM.Standard.A1.Flex\"  # ARM\n",
    "\n",
    "  # when using Flex you need a shape_config\n",
    "  shape_config {\n",
    "\n",
    "        #Optional\n",
    "        #baseline_ocpu_utilization = var.instance_shape_config_baseline_ocpu_utilization\n",
    "        memory_in_gbs = 1\n",
    "        #nvmes = var.instance_shape_config_nvmes\n",
    "        ocpus = 1\n",
    "        #vcpus = var.instance_shape_config_vcpus\n",
    "  }\n",
    "    \n",
    "  source_details {\n",
    "    # https://docs.oracle.com/en-us/iaas/images/ \n",
    "    source_id = \"<source-ocid>\"\n",
    "    source_type = \"image\"\n",
    "  }\n",
    "\n",
    "  # Optional\n",
    "  display_name = \"peer-vm\"\n",
    "  create_vnic_details {\n",
    "    assign_public_ip = true\n",
    "    # Public subnet\n",
    "    # Find this in your VCN outputs.  \n",
    "    subnet_id = \"<subnet-ocid>\"\n",
    "  }\n",
    "  metadata = {\n",
    "    ssh_authorized_keys = file(\"<ssh-public-key-path>\")\n",
    "  } \n",
    "  preserve_boot_volume = false\n",
    "}"
   ]
  },
  {
   "cell_type": "code",
   "execution_count": 16,
   "id": "81c14a26",
   "metadata": {},
   "outputs": [],
   "source": [
    "!code ./tf-peer_vm/peer_vm.tf "
   ]
  },
  {
   "cell_type": "code",
   "execution_count": null,
   "id": "23e55c24",
   "metadata": {},
   "outputs": [],
   "source": [
    "%%writefile ./tf-peer_vm/outputs.tf\n",
    "\n",
    "\n",
    "# The \"name\" of the availability domain to be used for the compute instance.\n",
    "output \"name-of-first-availability-domain\" {\n",
    "  value = data.oci_identity_availability_domains.ads.availability_domains[0].name\n",
    "}\n",
    "\n",
    "# Outputs for compute instance\n",
    "output \"public-ip-for-compute-instance\" {\n",
    "  value = oci_core_instance.peer-vm.public_ip\n",
    "}\n",
    "\n",
    "output \"private-ip-for-compute-instance\" {\n",
    "  value = oci_core_instance.peer-vm.private_ip\n",
    "}\n",
    "\n",
    "output \"instance-name\" {\n",
    "  value = oci_core_instance.peer-vm.display_name\n",
    "}\n",
    "\n",
    "output \"instance-OCID\" {\n",
    "  value = oci_core_instance.peer-vm.id\n",
    "}\n",
    "\n",
    "output \"instance-region\" {\n",
    "  value = oci_core_instance.peer-vm.region\n",
    "}\n",
    "\n",
    "output \"instance-shape\" {\n",
    "  value = oci_core_instance.peer-vm.shape\n",
    "}\n",
    "\n",
    "output \"instance-state\" {\n",
    "  value = oci_core_instance.peer-vm.state\n",
    "}\n",
    "\n",
    "output \"instance-OCPUs\" {\n",
    "  value = oci_core_instance.peer-vm.shape_config[0].ocpus\n",
    "}\n",
    "\n",
    "output \"instance-memory-in-GBs\" {\n",
    "  value = oci_core_instance.peer-vm.shape_config[0].memory_in_gbs\n",
    "}\n",
    "\n",
    "output \"time-created\" {\n",
    "  value = oci_core_instance.peer-vm.time_created\n",
    "}"
   ]
  },
  {
   "cell_type": "code",
   "execution_count": null,
   "id": "06425d64",
   "metadata": {},
   "outputs": [],
   "source": [
    "!code ./tf-peer_vm/outputs.tf "
   ]
  },
  {
   "cell_type": "markdown",
   "id": "60e8a91c",
   "metadata": {},
   "source": [
    "## Run Scripts"
   ]
  },
  {
   "cell_type": "code",
   "execution_count": 10,
   "id": "b94b2949",
   "metadata": {},
   "outputs": [
    {
     "name": "stdout",
     "output_type": "stream",
     "text": [
      "/home/harley/cloud/oci-notebook-vcn-peer1\r\n"
     ]
    }
   ],
   "source": [
    "!pwd"
   ]
  },
  {
   "cell_type": "code",
   "execution_count": null,
   "id": "9b9c902f",
   "metadata": {},
   "outputs": [],
   "source": [
    "!(cd tf-peer_vm && ls -al) "
   ]
  },
  {
   "cell_type": "code",
   "execution_count": null,
   "id": "159629fb",
   "metadata": {},
   "outputs": [],
   "source": [
    "!(cd tf-peer_vm && tree .) "
   ]
  },
  {
   "cell_type": "code",
   "execution_count": null,
   "id": "704aea7f",
   "metadata": {},
   "outputs": [],
   "source": [
    "!(cd tf-peer_vm && tofu init) "
   ]
  },
  {
   "cell_type": "code",
   "execution_count": null,
   "id": "d5d63215",
   "metadata": {},
   "outputs": [],
   "source": [
    "!(cd tf-peer_vm && tofu validate)"
   ]
  },
  {
   "cell_type": "code",
   "execution_count": null,
   "id": "00443ef2",
   "metadata": {},
   "outputs": [],
   "source": [
    "!(cd tf-peer_vm && tofu plan -input=false)"
   ]
  },
  {
   "cell_type": "code",
   "execution_count": null,
   "id": "dcce6411",
   "metadata": {},
   "outputs": [],
   "source": [
    "!(cd tf-peer_vm && tofu apply -input=false -auto-approve)"
   ]
  },
  {
   "cell_type": "code",
   "execution_count": null,
   "id": "082ce9c8",
   "metadata": {},
   "outputs": [],
   "source": [
    "!(cd tf-peer_vm && tofu output)"
   ]
  },
  {
   "cell_type": "markdown",
   "id": "3794470e",
   "metadata": {},
   "source": [
    "## Connect to the VM Instance\n",
    "To connect to the VM:\n",
    "```bash\n",
    "ssh -i <ssh-private-key-path> ubuntu@<your-public-ip-address>\n",
    "```"
   ]
  },
  {
   "cell_type": "markdown",
   "id": "5109a7e1",
   "metadata": {},
   "source": [
    "# Destroy Resources"
   ]
  },
  {
   "cell_type": "code",
   "execution_count": null,
   "id": "2c3454dd",
   "metadata": {},
   "outputs": [],
   "source": [
    "!(cd tf-peer_vm && tofu destroy -input=false -auto-approve)"
   ]
  },
  {
   "cell_type": "code",
   "execution_count": null,
   "id": "c3770fc4",
   "metadata": {},
   "outputs": [],
   "source": [
    "!(cd tf-vcn && tofu destroy -input=false -auto-approve)"
   ]
  },
  {
   "cell_type": "code",
   "execution_count": null,
   "id": "f6287d2b",
   "metadata": {},
   "outputs": [],
   "source": [
    "!(cd tf-compartment && tofu destroy -input=false -auto-approve)"
   ]
  },
  {
   "cell_type": "code",
   "execution_count": null,
   "id": "f02e6524",
   "metadata": {},
   "outputs": [],
   "source": [
    "!(cd tf-provider && tofu destroy -input=false -auto-approve)"
   ]
  }
 ],
 "metadata": {
  "kernelspec": {
   "display_name": "Python 3 (ipykernel)",
   "language": "python",
   "name": "python3"
  },
  "language_info": {
   "codemirror_mode": {
    "name": "ipython",
    "version": 3
   },
   "file_extension": ".py",
   "mimetype": "text/x-python",
   "name": "python",
   "nbconvert_exporter": "python",
   "pygments_lexer": "ipython3",
   "version": "3.9.13"
  }
 },
 "nbformat": 4,
 "nbformat_minor": 5
}
