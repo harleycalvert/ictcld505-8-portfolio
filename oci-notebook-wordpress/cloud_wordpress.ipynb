{
 "cells": [
  {
   "cell_type": "markdown",
   "id": "f499967b",
   "metadata": {},
   "source": [
    "# Multi-Tier Web Application\n",
    "\n",
    "In this exercise we will be using OpenTofu (an open-source fork of Terraform) and Oracle Cloud Infrastructure's Free Tier to deploy WordPress with public and private subnets. The webserver will be in the public subnet and be accessible from the internet, while the database server will be in a private subnet with no internet connectivity.\n",
    "\n",
    "[OpenTofu](https://opentofu.org)\n",
    "\n",
    "[Oracle Cloud Free Tier](https://www.oracle.com/au/cloud/free/)\n",
    "\n",
    "<img src=\"img/infrastructure.png\" width=\"100%\" alt=\"Cloud Infrastructure\" />\n",
    "\n",
    "\n",
    "## Authentication\n",
    "\n",
    "When beginning a session you will need to authenticate:\n",
    "\n",
    "```bash\n",
    "oci session authenticate\n",
    "```\n",
    "A session lasts one hour. Don't forget to refresh your session to avoid having to authenticate again.\n"
   ]
  },
  {
   "cell_type": "code",
   "execution_count": null,
   "id": "5906e7e3",
   "metadata": {},
   "outputs": [],
   "source": [
    "!oci session refresh --profile harleycalvert"
   ]
  },
  {
   "cell_type": "markdown",
   "id": "50cfa4d9",
   "metadata": {},
   "source": [
    "# Set Up OCI Terraform\n",
    "\n",
    "[Set Up OCI Terraform](https://docs.oracle.com/en-us/iaas/developer-tutorials/tutorials/tf-provider/01-summary.htm)"
   ]
  },
  {
   "cell_type": "markdown",
   "id": "07abd09a",
   "metadata": {},
   "source": [
    "## Install OpenTofu"
   ]
  },
  {
   "cell_type": "code",
   "execution_count": null,
   "id": "a2f7f9b0",
   "metadata": {},
   "outputs": [],
   "source": [
    "!snap install --classic opentofu"
   ]
  },
  {
   "cell_type": "code",
   "execution_count": null,
   "id": "7bc9765c",
   "metadata": {},
   "outputs": [],
   "source": [
    "!tofu -v"
   ]
  },
  {
   "cell_type": "markdown",
   "id": "854e482b",
   "metadata": {},
   "source": [
    "## Create RSA Keys"
   ]
  },
  {
   "cell_type": "code",
   "execution_count": null,
   "id": "b2b0b9b3",
   "metadata": {},
   "outputs": [],
   "source": [
    "!mkdir $HOME/.oci"
   ]
  },
  {
   "cell_type": "code",
   "execution_count": null,
   "id": "d3ae1660",
   "metadata": {},
   "outputs": [],
   "source": [
    "!openssl genrsa -out $HOME/.oci/oci_rsa_key.pem 2048"
   ]
  },
  {
   "cell_type": "code",
   "execution_count": null,
   "id": "f87be0cd",
   "metadata": {},
   "outputs": [],
   "source": [
    "!chmod 600 $HOME/.oci/oci_rsa_key.pem"
   ]
  },
  {
   "cell_type": "code",
   "execution_count": null,
   "id": "3e76af21",
   "metadata": {},
   "outputs": [],
   "source": [
    "!openssl rsa -pubout -in $HOME/.oci/oci_rsa_key.pem -out $HOME/.oci/oci_rsa_key.pem.pub"
   ]
  },
  {
   "cell_type": "code",
   "execution_count": null,
   "id": "323cd91a",
   "metadata": {},
   "outputs": [],
   "source": [
    "!(cd $HOME/.oci/ && ls)"
   ]
  },
  {
   "cell_type": "code",
   "execution_count": null,
   "id": "893a294d",
   "metadata": {},
   "outputs": [],
   "source": [
    "!cat $HOME/.oci/oci_rsa_key.pem.pub"
   ]
  },
  {
   "cell_type": "markdown",
   "id": "11099f52",
   "metadata": {},
   "source": [
    "Add the public key to your user account.\n",
    "\n",
    "In the OCI Console's top navigation bar, click the Profile menu, and then go to My profile.\n",
    "- Click API Keys.\n",
    "- Click Add API Key.\n",
    "- Select Paste Public Keys.\n",
    "- Paste value from previous step, including the lines with BEGIN PUBLIC KEY and END PUBLIC KEY.\n",
    "- Click Add.\n",
    "- Copy the Configuration file preview.\n",
    "- Paste the Configuration file preview into ~/.oci/config\n",
    "\n",
    "You have now set up the RSA keys to connect to your OCI account."
   ]
  },
  {
   "cell_type": "markdown",
   "id": "c6620ced",
   "metadata": {},
   "source": [
    "## Add API Key-Based Authentication"
   ]
  },
  {
   "cell_type": "code",
   "execution_count": null,
   "id": "8014fcca",
   "metadata": {},
   "outputs": [],
   "source": [
    "!mkdir tf-provider"
   ]
  },
  {
   "cell_type": "markdown",
   "id": "d0e10abe",
   "metadata": {},
   "source": [
    "## Gather Required Information\n",
    "Collect the following credential information from the OCI Console.\n",
    "\n",
    "- Tenancy OCID\n",
    "- User OCID\n",
    "- Fingerprint\n",
    "- Region \n",
    "  - ap-melbourne-1\n",
    "\n",
    "Collect the following information from your environment.\n",
    "\n",
    "- Private Key Path \n",
    "  - /home/harley/.oci/oci_rsa_key.pem\n",
    "  \n",
    "Put the information in provider.tf like so:"
   ]
  },
  {
   "cell_type": "code",
   "execution_count": null,
   "id": "4a4eef6c",
   "metadata": {},
   "outputs": [],
   "source": [
    "%%writefile ./tf-provider/provider.tf\n",
    "\n",
    "\n",
    "provider \"oci\" {  \n",
    "  tenancy_ocid = \"<tenancy-ocid>\"\n",
    "  user_ocid = \"<user-ocid>\" \n",
    "  private_key_path = \"<rsa-private-key-path>\"\n",
    "  fingerprint = \"<fingerprint>\"\n",
    "  region = \"<region-identifier>\"\n",
    "}"
   ]
  },
  {
   "cell_type": "code",
   "execution_count": null,
   "id": "f8290da8",
   "metadata": {},
   "outputs": [],
   "source": [
    "!code ./tf-provider/provider.tf"
   ]
  },
  {
   "cell_type": "code",
   "execution_count": null,
   "id": "95305361",
   "metadata": {},
   "outputs": [],
   "source": [
    "%%writefile ./tf-provider/availability-domains.tf\n",
    "\n",
    "\n",
    "# Source from https://registry.terraform.io/providers/oracle/oci/latest/docs/data-sources/identity_availability_domains\n",
    "\n",
    "# Tenancy is the root or parent to all compartments.\n",
    "# For this, use the value of <tenancy-ocid> for the compartment OCID.\n",
    "\n",
    "data \"oci_identity_availability_domains\" \"ads\" {\n",
    "  compartment_id = \"<tenancy-ocid>\"\n",
    "}"
   ]
  },
  {
   "cell_type": "code",
   "execution_count": null,
   "id": "8823ad76",
   "metadata": {},
   "outputs": [],
   "source": [
    "!code ./tf-provider/availability-domains.tf"
   ]
  },
  {
   "cell_type": "code",
   "execution_count": null,
   "id": "cddfb9d3",
   "metadata": {},
   "outputs": [],
   "source": [
    "%%writefile ./tf-provider/outputs.tf\n",
    "\n",
    "\n",
    "# Output the \"list\" of all availability domains.\n",
    "output \"all-availability-domains-in-your-tenancy\" {\n",
    "  value = data.oci_identity_availability_domains.ads.availability_domains\n",
    "}"
   ]
  },
  {
   "cell_type": "code",
   "execution_count": null,
   "id": "ba7acc5e",
   "metadata": {},
   "outputs": [],
   "source": [
    "!code ./tf-provider/outputs.tf"
   ]
  },
  {
   "cell_type": "markdown",
   "id": "57951b0d",
   "metadata": {},
   "source": [
    "## Run Scripts"
   ]
  },
  {
   "cell_type": "code",
   "execution_count": null,
   "id": "b4b428d8",
   "metadata": {},
   "outputs": [],
   "source": [
    "!pwd"
   ]
  },
  {
   "cell_type": "code",
   "execution_count": null,
   "id": "697874e7",
   "metadata": {},
   "outputs": [],
   "source": [
    "!(cd tf-provider && tofu init) "
   ]
  },
  {
   "cell_type": "code",
   "execution_count": null,
   "id": "8183ed9b",
   "metadata": {},
   "outputs": [],
   "source": [
    "!(cd tf-provider && ls -al) "
   ]
  },
  {
   "cell_type": "code",
   "execution_count": null,
   "id": "14e7063c",
   "metadata": {},
   "outputs": [],
   "source": [
    "!(cd tf-provider && tree .) "
   ]
  },
  {
   "cell_type": "code",
   "execution_count": null,
   "id": "1ced21fd",
   "metadata": {},
   "outputs": [],
   "source": [
    "!(cd tf-provider && tofu validate)"
   ]
  },
  {
   "cell_type": "code",
   "execution_count": null,
   "id": "71208478",
   "metadata": {},
   "outputs": [],
   "source": [
    "!(cd tf-provider && tofu plan -input=false)"
   ]
  },
  {
   "cell_type": "code",
   "execution_count": null,
   "id": "f79e41a7",
   "metadata": {},
   "outputs": [],
   "source": [
    "!(cd tf-provider && tofu apply -input=false -auto-approve)"
   ]
  },
  {
   "cell_type": "code",
   "execution_count": null,
   "id": "2ab996a0",
   "metadata": {},
   "outputs": [],
   "source": [
    "!(cd tf-provider && tofu output)"
   ]
  },
  {
   "cell_type": "markdown",
   "id": "53b1946b",
   "metadata": {},
   "source": [
    "# Create a Compartment\n",
    "\n",
    "[Create a Compartment](https://docs.oracle.com/en-us/iaas/developer-tutorials/tutorials/tf-compartment/01-summary.htm)"
   ]
  },
  {
   "cell_type": "markdown",
   "id": "1a486dc8",
   "metadata": {},
   "source": [
    "## Create Scripts"
   ]
  },
  {
   "cell_type": "code",
   "execution_count": null,
   "id": "e64a7b57",
   "metadata": {},
   "outputs": [],
   "source": [
    "!mkdir ./tf-compartment"
   ]
  },
  {
   "cell_type": "code",
   "execution_count": null,
   "id": "2807c0c1",
   "metadata": {},
   "outputs": [],
   "source": [
    "!cp ./tf-provider/provider.tf ./tf-compartment/provider.tf "
   ]
  },
  {
   "cell_type": "code",
   "execution_count": null,
   "id": "3e95f483",
   "metadata": {},
   "outputs": [],
   "source": [
    "%%writefile ./tf-compartment/compartment.tf\n",
    "\n",
    "\n",
    "resource \"oci_identity_compartment\" \"tf-compartment\" {\n",
    "    # Required\n",
    "    compartment_id = \"<tenancy-ocid>\"\n",
    "    description = \"<your-description>\"\n",
    "    name = \"<your-compartment-name>\"\n",
    "}"
   ]
  },
  {
   "cell_type": "markdown",
   "id": "416b92be",
   "metadata": {},
   "source": [
    "Replace your-compartment-name with a name of your choice."
   ]
  },
  {
   "cell_type": "code",
   "execution_count": null,
   "id": "a3890e68",
   "metadata": {},
   "outputs": [],
   "source": [
    "!code ./tf-compartment/compartment.tf"
   ]
  },
  {
   "cell_type": "code",
   "execution_count": null,
   "id": "590fdef1",
   "metadata": {},
   "outputs": [],
   "source": [
    "%%writefile ./tf-compartment/outputs.tf\n",
    "\n",
    "\n",
    "# Outputs for compartment\n",
    "output \"compartment-name\" {\n",
    "  value = oci_identity_compartment.tf-compartment.name\n",
    "}\n",
    "\n",
    "output \"compartment-OCID\" {\n",
    "  value = oci_identity_compartment.tf-compartment.id\n",
    "}"
   ]
  },
  {
   "cell_type": "code",
   "execution_count": null,
   "id": "c963a018",
   "metadata": {},
   "outputs": [],
   "source": [
    "!code ./tf-compartment/outputs.tf"
   ]
  },
  {
   "cell_type": "markdown",
   "id": "d1bfaa26",
   "metadata": {},
   "source": [
    "## Run Scripts"
   ]
  },
  {
   "cell_type": "code",
   "execution_count": null,
   "id": "f12bd4eb",
   "metadata": {},
   "outputs": [],
   "source": [
    "!pwd"
   ]
  },
  {
   "cell_type": "code",
   "execution_count": null,
   "id": "bf2ffa73",
   "metadata": {},
   "outputs": [],
   "source": [
    "!(cd tf-compartment && ls -al) "
   ]
  },
  {
   "cell_type": "code",
   "execution_count": null,
   "id": "8e030cb2",
   "metadata": {},
   "outputs": [],
   "source": [
    "!(cd tf-compartment && tree .) "
   ]
  },
  {
   "cell_type": "code",
   "execution_count": null,
   "id": "ad795a6f",
   "metadata": {},
   "outputs": [],
   "source": [
    "!(cd tf-compartment && tofu init) "
   ]
  },
  {
   "cell_type": "code",
   "execution_count": null,
   "id": "ad37a8cd",
   "metadata": {},
   "outputs": [],
   "source": [
    "!(cd tf-compartment && tofu validate)"
   ]
  },
  {
   "cell_type": "code",
   "execution_count": null,
   "id": "1bb7b96b",
   "metadata": {},
   "outputs": [],
   "source": [
    "!(cd tf-compartment && tofu plan -input=false)"
   ]
  },
  {
   "cell_type": "code",
   "execution_count": null,
   "id": "01a278d0",
   "metadata": {},
   "outputs": [],
   "source": [
    "!(cd tf-compartment && tofu apply -input=false -auto-approve)"
   ]
  },
  {
   "cell_type": "code",
   "execution_count": null,
   "id": "12036065",
   "metadata": {},
   "outputs": [],
   "source": [
    "!(cd tf-compartment && tofu output)"
   ]
  },
  {
   "cell_type": "markdown",
   "id": "d5475499",
   "metadata": {},
   "source": [
    "# Create a Virtual Cloud Network\n",
    "\n",
    "[Create a Virtual Cloud Network](https://docs.oracle.com/en-us/iaas/developer-tutorials/tutorials/tf-vcn/01-summary.htm)\n",
    "\n",
    "[VCN (basics)](https://isaac-exe.gitbook.io/various-tutorials/tutorials/untitled/vcn-basics)"
   ]
  },
  {
   "cell_type": "markdown",
   "id": "c4ec5266",
   "metadata": {},
   "source": [
    "## Create a Basic Network"
   ]
  },
  {
   "cell_type": "code",
   "execution_count": null,
   "id": "e2487796",
   "metadata": {},
   "outputs": [],
   "source": [
    "!mkdir ./tf-vcn"
   ]
  },
  {
   "cell_type": "code",
   "execution_count": null,
   "id": "36e42410",
   "metadata": {},
   "outputs": [],
   "source": [
    "!cp ./tf-provider/provider.tf ./tf-vcn/provider.tf "
   ]
  },
  {
   "cell_type": "code",
   "execution_count": null,
   "id": "f1eb09c8",
   "metadata": {},
   "outputs": [],
   "source": [
    "%%writefile ./tf-vcn/vcn.tf\n",
    "\n",
    "\n",
    "# https://github.com/oracle-terraform-modules/terraform-oci-vcn\n",
    "\n",
    "resource \"oci_core_vcn\" \"vcn\" {\n",
    "  # We still allow module users to declare a cidr using `vcn_cidr` instead of the now recommended `vcn_cidrs`, but internally we map both to `cidr_blocks`\n",
    "  # The module always use the new list of string structure and let the customer update his module definition block at his own pace.\n",
    "  cidr_blocks    = [\"10.0.0.0/16\"]\n",
    "  compartment_id = var.compartment_id\n",
    "  display_name   = \"vcn\"\n",
    "  dns_label      = \"vcn\"\n",
    "  is_ipv6enabled = false\n",
    "\n",
    "  freeform_tags = {\n",
    "    terraformed = \"Please do not edit manually\"\n",
    "    module      = \"oracle-terraform-modules/vcn/oci\"\n",
    "  }\n",
    "    \n",
    "  defined_tags  = null\n",
    "\n",
    "  lifecycle {\n",
    "    ignore_changes = [defined_tags, dns_label, freeform_tags]\n",
    "  }\n",
    "}"
   ]
  },
  {
   "cell_type": "markdown",
   "id": "dec925ca",
   "metadata": {},
   "source": [
    "## Customise the Network"
   ]
  },
  {
   "cell_type": "markdown",
   "id": "e8472684",
   "metadata": {},
   "source": [
    "### Create a Security List for the Private Subnet"
   ]
  },
  {
   "cell_type": "code",
   "execution_count": null,
   "id": "2e3e3afe",
   "metadata": {},
   "outputs": [],
   "source": [
    "%%writefile ./tf-vcn/private-security-list.tf\n",
    "\n",
    "\n",
    "# Source from https://registry.terraform.io/providers/oracle/oci/latest/docs/resources/core_security_list\n",
    "\n",
    "resource \"oci_core_security_list\" \"private-security-list\"{\n",
    "\n",
    "# Required\n",
    "  compartment_id = var.compartment_id\n",
    "  vcn_id = oci_core_vcn.vcn.id\n",
    "\n",
    "# Optional\n",
    "  display_name = \"security-list-for-private-subnet\"\n",
    "    \n",
    "  \n",
    "  egress_security_rules {\n",
    "    stateless = false\n",
    "    destination = \"0.0.0.0/0\"\n",
    "    destination_type = \"CIDR_BLOCK\"\n",
    "    protocol = \"all\" \n",
    "  }\n",
    "    \n",
    " \n",
    "  ingress_security_rules { \n",
    "    stateless = false\n",
    "    source = \"10.0.0.0/16\"\n",
    "    source_type = \"CIDR_BLOCK\"\n",
    "    # Get protocol numbers from https://www.iana.org/assignments/protocol-numbers/protocol-numbers.xhtml TCP is 6\n",
    "    protocol = \"6\"\n",
    "    tcp_options { \n",
    "      min = 22\n",
    "      max = 22\n",
    "    }\n",
    "  }\n",
    "    \n",
    " \n",
    "  ingress_security_rules { \n",
    "    stateless = false\n",
    "    source = \"10.0.0.0/16\"\n",
    "    source_type = \"CIDR_BLOCK\"\n",
    "    # Get protocol numbers from https://www.iana.org/assignments/protocol-numbers/protocol-numbers.xhtml TCP is 6\n",
    "    protocol = \"6\"\n",
    "    tcp_options { \n",
    "      min = 3306\n",
    "      max = 3306\n",
    "    }\n",
    "  } \n",
    "    \n",
    "}"
   ]
  },
  {
   "cell_type": "markdown",
   "id": "a42f4fe0",
   "metadata": {},
   "source": [
    "### Create a Security List for the Public Subnet"
   ]
  },
  {
   "cell_type": "code",
   "execution_count": null,
   "id": "2c0ffa2d",
   "metadata": {},
   "outputs": [],
   "source": [
    "%%writefile ./tf-vcn/public-security-list.tf\n",
    "\n",
    "\n",
    "# Source from https://registry.terraform.io/providers/oracle/oci/latest/docs/resources/core_security_list\n",
    "\n",
    "resource \"oci_core_security_list\" \"public-security-list\"{\n",
    "\n",
    "# Required\n",
    "  compartment_id = var.compartment_id\n",
    "  vcn_id = oci_core_vcn.vcn.id\n",
    "\n",
    "# Optional\n",
    "  display_name = \"security-list-for-public-subnet\"\n",
    "    \n",
    "  \n",
    "  egress_security_rules {\n",
    "    stateless = false\n",
    "    destination = \"0.0.0.0/0\"\n",
    "    destination_type = \"CIDR_BLOCK\"\n",
    "    protocol = \"all\" \n",
    "  }\n",
    "\n",
    " \n",
    "  ingress_security_rules {\n",
    "    stateless   = false\n",
    "    source      = \"0.0.0.0/0\"\n",
    "    source_type = \"CIDR_BLOCK\"\n",
    "\n",
    "    # Allow SSH (TCP port 22)\n",
    "    protocol = \"6\"  # TCP\n",
    "    tcp_options {\n",
    "      min = 22\n",
    "      max = 22\n",
    "    }\n",
    "  }\n",
    "\n",
    "    \n",
    "  ingress_security_rules {\n",
    "    stateless   = false\n",
    "    source      = \"0.0.0.0/0\"\n",
    "    source_type = \"CIDR_BLOCK\"\n",
    "\n",
    "    # Allow HTTP (TCP port 80)\n",
    "    protocol = \"6\"  # TCP\n",
    "    tcp_options {\n",
    "      min = 80\n",
    "      max = 80\n",
    "    }\n",
    "  }\n",
    "\n",
    "    \n",
    "  ingress_security_rules {\n",
    "    stateless   = false\n",
    "    source      = \"0.0.0.0/0\"\n",
    "    source_type = \"CIDR_BLOCK\"\n",
    "\n",
    "    # Allow HTTPS (TCP port 443)\n",
    "    protocol = \"6\"  # TCP\n",
    "    tcp_options {\n",
    "      min = 443\n",
    "      max = 443\n",
    "    }\n",
    " }  \n",
    "\n",
    "\n",
    "}"
   ]
  },
  {
   "cell_type": "markdown",
   "id": "6f9c227d",
   "metadata": {},
   "source": [
    "### Create a Private Subnet"
   ]
  },
  {
   "cell_type": "code",
   "execution_count": null,
   "id": "b2306719",
   "metadata": {},
   "outputs": [],
   "source": [
    "%%writefile ./tf-vcn/private-subnet.tf\n",
    "\n",
    "\n",
    "# Source from https://registry.terraform.io/providers/oracle/oci/latest/docs/resources/core_subnet\n",
    "# https://docs.oracle.com/en-us/iaas/tools/terraform-provider-oci/5.24/docs/r/core_subnet.html\n",
    "\n",
    "resource \"oci_core_subnet\" \"vcn-private-subnet\"{\n",
    "\n",
    "  # Required\n",
    "  compartment_id = var.compartment_id\n",
    "  vcn_id = oci_core_vcn.vcn.id\n",
    "  cidr_block = \"10.0.1.0/24\"\n",
    " \n",
    "  # Optional\n",
    "  #route_table_id = oci_core_vcn.vcn.nat_route_id\n",
    "  security_list_ids = [oci_core_security_list.private-security-list.id]\n",
    "  display_name = \"private-subnet\"\n",
    "  dns_label = \"private\"\n",
    "  prohibit_public_ip_on_vnic = true\n",
    "}"
   ]
  },
  {
   "cell_type": "markdown",
   "id": "62b68d5f",
   "metadata": {},
   "source": [
    "### Create a Public Subnet"
   ]
  },
  {
   "cell_type": "code",
   "execution_count": null,
   "id": "75d089f8",
   "metadata": {},
   "outputs": [],
   "source": [
    "%%writefile ./tf-vcn/public-subnet.tf\n",
    "\n",
    "\n",
    "# Source from https://registry.terraform.io/providers/oracle/oci/latest/docs/resources/core_subnet\n",
    "# https://docs.oracle.com/en-us/iaas/tools/terraform-provider-oci/5.24/docs/r/core_subnet.html\n",
    "\n",
    "resource \"oci_core_subnet\" \"vcn-public-subnet\"{\n",
    "\n",
    "  # Required\n",
    "  compartment_id = var.compartment_id\n",
    "  vcn_id         = oci_core_vcn.vcn.id\n",
    "  cidr_block     = \"10.0.0.0/24\"\n",
    " \n",
    "  # Optional\n",
    "  route_table_id      = oci_core_route_table.public-route-table.id\n",
    "  security_list_ids   = [oci_core_security_list.public-security-list.id]\n",
    "  display_name        = \"public-subnet\"\n",
    "  dns_label           = \"public\"\n",
    "}"
   ]
  },
  {
   "cell_type": "markdown",
   "id": "80addb53",
   "metadata": {},
   "source": [
    "### Create Internet Gateway"
   ]
  },
  {
   "cell_type": "code",
   "execution_count": null,
   "id": "7c065ef0",
   "metadata": {},
   "outputs": [],
   "source": [
    "%%writefile ./tf-vcn/internet-gateway.tf\n",
    "\n",
    "\n",
    "resource \"oci_core_internet_gateway\" \"internet-gateway\" {\n",
    "  compartment_id = var.compartment_id\n",
    "  display_name = \"internet-gateway\"\n",
    "  vcn_id = oci_core_vcn.vcn.id\n",
    "}"
   ]
  },
  {
   "cell_type": "markdown",
   "id": "b311a5a8",
   "metadata": {},
   "source": [
    "### Create NAT Gateway\n",
    "\n",
    "We could use a NAT Gateway to provide outbound internet access to the private subnet. This could be useful for installing software and security updates. However, a NAT Gateway is not available in Oracle's Free Tier. So you can skip this section."
   ]
  },
  {
   "cell_type": "code",
   "execution_count": null,
   "id": "fdde9f0f",
   "metadata": {},
   "outputs": [],
   "source": [
    "%%writefile ./tf-vcn/nat-gateway.tf\n",
    "\n",
    "\n",
    "resource \"oci_core_nat_gateway\" \"nat-gateway\" {\n",
    "  compartment_id = var.compartment_id\n",
    "  display_name = \"nat-gateway\"\n",
    "  vcn_id = oci_core_vcn.vcn.id\n",
    "}"
   ]
  },
  {
   "cell_type": "markdown",
   "id": "112cd749",
   "metadata": {},
   "source": [
    "### Create Private Subnet Route Table\n",
    "\n",
    "You may skip this section."
   ]
  },
  {
   "cell_type": "code",
   "execution_count": null,
   "id": "911bf045",
   "metadata": {},
   "outputs": [],
   "source": [
    "%%writefile ./tf-vcn/private-route-table.tf\n",
    "\n",
    "\n",
    "resource \"oci_core_route_table\" \"private-route-table\" {\n",
    "  compartment_id = var.compartment_id\n",
    "  vcn_id         = oci_core_vcn.vcn.id\n",
    "  display_name   = \"private-route-table\"\n",
    "\n",
    "  route_rules {\n",
    "    destination_type = \"CIDR_BLOCK\"\n",
    "    destination       = \"0.0.0.0/0\"\n",
    "    network_entity_id = oci_core_nat_gateway.nat-gateway.id\n",
    "  }\n",
    "\n",
    "}\n"
   ]
  },
  {
   "cell_type": "markdown",
   "id": "56b8c3b5",
   "metadata": {},
   "source": [
    "### Create Public Subnet Route Table"
   ]
  },
  {
   "cell_type": "code",
   "execution_count": null,
   "id": "812745ca",
   "metadata": {},
   "outputs": [],
   "source": [
    "%%writefile ./tf-vcn/public-route-table.tf\n",
    "\n",
    "\n",
    "resource \"oci_core_route_table\" \"public-route-table\" {\n",
    "\n",
    "  compartment_id = var.compartment_id\n",
    "  vcn_id = oci_core_vcn.vcn.id\n",
    "  display_name = \"public-route-table\"\n",
    "\n",
    "  route_rules {\n",
    "    destination_type = \"CIDR_BLOCK\"\n",
    "    destination = \"0.0.0.0/0\"\n",
    "    network_entity_id = oci_core_internet_gateway.internet-gateway.id\n",
    "  }\n",
    "}\n"
   ]
  },
  {
   "cell_type": "markdown",
   "id": "50439bdc",
   "metadata": {},
   "source": [
    "### Variables"
   ]
  },
  {
   "cell_type": "code",
   "execution_count": null,
   "id": "bcd57c5c",
   "metadata": {},
   "outputs": [],
   "source": [
    "%%writefile ./tf-vcn/variables.tf\n",
    "\n",
    "\n",
    "variable \"compartment_id\" {\n",
    "  # This is the ID of the compartment you created earlier.\n",
    "  # Check your compartment output  \n",
    "  description = \"Compartment ID\"    \n",
    "  type        = string\n",
    "  default     = \"<compartment-ocid>\"\n",
    "}"
   ]
  },
  {
   "cell_type": "code",
   "execution_count": null,
   "id": "61959e13",
   "metadata": {},
   "outputs": [],
   "source": [
    "!code ./tf-vcn/variables.tf"
   ]
  },
  {
   "cell_type": "markdown",
   "id": "9a7f1d63",
   "metadata": {},
   "source": [
    "### Outputs"
   ]
  },
  {
   "cell_type": "code",
   "execution_count": null,
   "id": "033d4caa",
   "metadata": {},
   "outputs": [],
   "source": [
    "%%writefile ./tf-vcn/outputs.tf\n",
    "\n",
    "\n",
    "# Outputs for private security list\n",
    "\n",
    "output \"private-security-list-name\" {\n",
    "  value = oci_core_security_list.private-security-list.display_name\n",
    "}\n",
    "output \"private-security-list-OCID\" {\n",
    "  value = oci_core_security_list.private-security-list.id\n",
    "}\n",
    "    \n",
    "\n",
    "# Outputs for public security list\n",
    "\n",
    "output \"public-security-list-name\" {\n",
    "  value = oci_core_security_list.public-security-list.display_name\n",
    "}\n",
    "output \"public-security-list-OCID\" {\n",
    "  value = oci_core_security_list.public-security-list.id\n",
    "}\n",
    "\n",
    "\n",
    "# Outputs for private subnet\n",
    "\n",
    "output \"private-subnet-name\" {\n",
    "  value = oci_core_subnet.vcn-private-subnet.display_name\n",
    "}\n",
    "output \"private-subnet-OCID\" {\n",
    "  value = oci_core_subnet.vcn-private-subnet.id\n",
    "}\n",
    "\n",
    "\n",
    "# Outputs for public subnet\n",
    "\n",
    "output \"public-subnet-name\" {\n",
    "  value = oci_core_subnet.vcn-public-subnet.display_name\n",
    "}\n",
    "output \"public-subnet-OCID\" {\n",
    "  value = oci_core_subnet.vcn-public-subnet.id\n",
    "}"
   ]
  },
  {
   "cell_type": "code",
   "execution_count": null,
   "id": "af719844",
   "metadata": {},
   "outputs": [],
   "source": [
    "!code ./tf-vcn/outputs.tf"
   ]
  },
  {
   "cell_type": "markdown",
   "id": "5bd34d21",
   "metadata": {},
   "source": [
    "## Run Scripts"
   ]
  },
  {
   "cell_type": "code",
   "execution_count": null,
   "id": "9d5e549f",
   "metadata": {},
   "outputs": [],
   "source": [
    "!pwd"
   ]
  },
  {
   "cell_type": "code",
   "execution_count": null,
   "id": "a804b58c",
   "metadata": {},
   "outputs": [],
   "source": [
    "!(cd tf-vcn && ls -al) "
   ]
  },
  {
   "cell_type": "code",
   "execution_count": null,
   "id": "364216b5",
   "metadata": {},
   "outputs": [],
   "source": [
    "!(cd tf-vcn && tree .) "
   ]
  },
  {
   "cell_type": "code",
   "execution_count": null,
   "id": "91821764",
   "metadata": {},
   "outputs": [],
   "source": [
    "!(cd tf-vcn && tofu init) "
   ]
  },
  {
   "cell_type": "code",
   "execution_count": null,
   "id": "53fa7295",
   "metadata": {},
   "outputs": [],
   "source": [
    "!(cd tf-vcn && tofu validate)"
   ]
  },
  {
   "cell_type": "code",
   "execution_count": null,
   "id": "a7196bfb",
   "metadata": {},
   "outputs": [],
   "source": [
    "!(cd tf-vcn && tofu plan -input=false)"
   ]
  },
  {
   "cell_type": "code",
   "execution_count": null,
   "id": "1403061f",
   "metadata": {},
   "outputs": [],
   "source": [
    "!(cd tf-vcn && tofu apply -input=false -auto-approve)"
   ]
  },
  {
   "cell_type": "code",
   "execution_count": null,
   "id": "f59d5fc4",
   "metadata": {},
   "outputs": [],
   "source": [
    "!(cd tf-vcn && tofu output)"
   ]
  },
  {
   "cell_type": "markdown",
   "id": "89f913c0",
   "metadata": {},
   "source": [
    "# Create a Database Compute Instance\n",
    "\n",
    "[Create a Compute Instance](https://docs.oracle.com/en-us/iaas/developer-tutorials/tutorials/tf-compute/01-summary.htm)"
   ]
  },
  {
   "cell_type": "markdown",
   "id": "320a37a6",
   "metadata": {},
   "source": [
    "## Create SSH Encryption Keys\n",
    "Execute the following command in the terminal:\n",
    "```bash\n",
    "ssh-keygen -t rsa -b 2048 -C \"\" -f ~/.ssh/database_vm_key\n",
    "```\n",
    "## Create Scripts"
   ]
  },
  {
   "cell_type": "code",
   "execution_count": null,
   "id": "b1ff4004",
   "metadata": {},
   "outputs": [],
   "source": [
    "!mkdir tf-database_vm"
   ]
  },
  {
   "cell_type": "code",
   "execution_count": null,
   "id": "a0ac2b58",
   "metadata": {},
   "outputs": [],
   "source": [
    "!cp ./tf-provider/provider.tf ./tf-database_vm/database_vm.tf "
   ]
  },
  {
   "cell_type": "code",
   "execution_count": null,
   "id": "ae39cb83",
   "metadata": {},
   "outputs": [],
   "source": [
    "!cp ./tf-vcn/variables.tf ./tf-database_vm/variables.tf "
   ]
  },
  {
   "cell_type": "code",
   "execution_count": null,
   "id": "a1ca9efd",
   "metadata": {},
   "outputs": [],
   "source": [
    "!cp ./tf-provider/availability-domains.tf ./tf-database_vm/availability-domains.tf"
   ]
  },
  {
   "cell_type": "code",
   "execution_count": null,
   "id": "2748fd15",
   "metadata": {},
   "outputs": [],
   "source": [
    "%%writefile ./tf-database_vm/database_vm.tf\n",
    "\n",
    "\n",
    "resource \"oci_core_instance\" \"database_server_instance\" {\n",
    "  # Required\n",
    "  availability_domain = data.oci_identity_availability_domains.ads.availability_domains[0].name\n",
    "  compartment_id = var.compartment_id\n",
    "  shape = \"VM.Standard.E2.1.Micro\"\n",
    "  source_details {\n",
    "    # https://docs.oracle.com/en-us/iaas/images/ \n",
    "    # Use Canonical-Ubuntu-22.04 for your region \n",
    "    source_id = \"<source-ocid>\"\n",
    "    source_type = \"image\"\n",
    "  }\n",
    "\n",
    "  # Optional\n",
    "  display_name = \"ubuntu-database-instance\"\n",
    "  create_vnic_details {\n",
    "    assign_public_ip = false\n",
    "    # Private subnet\n",
    "    # Find this in your VCN outputs.  \n",
    "    subnet_id = \"<subnet-ocid>\"\n",
    "  }\n",
    "    \n",
    "  metadata = {\n",
    "    ssh_authorized_keys = file(\"<ssh-public-key-path>\")\n",
    "  }\n",
    "    \n",
    "  preserve_boot_volume = false\n",
    "}"
   ]
  },
  {
   "cell_type": "code",
   "execution_count": 14,
   "id": "81c14a26",
   "metadata": {},
   "outputs": [],
   "source": [
    "!code ./tf-database_vm/database_vm.tf "
   ]
  },
  {
   "cell_type": "code",
   "execution_count": null,
   "id": "23e55c24",
   "metadata": {},
   "outputs": [],
   "source": [
    "%%writefile ./tf-database_vm/outputs.tf\n",
    "\n",
    "\n",
    "# The \"name\" of the availability domain to be used for the compute instance.\n",
    "output \"name-of-first-availability-domain\" {\n",
    "  value = data.oci_identity_availability_domains.ads.availability_domains[0].name\n",
    "}\n",
    "\n",
    "# Outputs for compute instance\n",
    "output \"public-ip-for-compute-instance\" {\n",
    "  value = oci_core_instance.database_server_instance.public_ip\n",
    "}\n",
    "\n",
    "output \"private-ip-for-compute-instance\" {\n",
    "  value = oci_core_instance.database_server_instance.private_ip\n",
    "}\n",
    "\n",
    "output \"instance-name\" {\n",
    "  value = oci_core_instance.database_server_instance.display_name\n",
    "}\n",
    "\n",
    "output \"instance-OCID\" {\n",
    "  value = oci_core_instance.database_server_instance.id\n",
    "}\n",
    "\n",
    "output \"instance-region\" {\n",
    "  value = oci_core_instance.database_server_instance.region\n",
    "}\n",
    "\n",
    "output \"instance-shape\" {\n",
    "  value = oci_core_instance.database_server_instance.shape\n",
    "}\n",
    "\n",
    "output \"instance-state\" {\n",
    "  value = oci_core_instance.database_server_instance.state\n",
    "}\n",
    "\n",
    "output \"instance-OCPUs\" {\n",
    "  value = oci_core_instance.database_server_instance.shape_config[0].ocpus\n",
    "}\n",
    "\n",
    "output \"instance-memory-in-GBs\" {\n",
    "  value = oci_core_instance.database_server_instance.shape_config[0].memory_in_gbs\n",
    "}\n",
    "\n",
    "output \"time-created\" {\n",
    "  value = oci_core_instance.database_server_instance.time_created\n",
    "}"
   ]
  },
  {
   "cell_type": "code",
   "execution_count": null,
   "id": "06425d64",
   "metadata": {},
   "outputs": [],
   "source": [
    "!code ./tf-database_vm/outputs.tf "
   ]
  },
  {
   "cell_type": "markdown",
   "id": "60e8a91c",
   "metadata": {},
   "source": [
    "## Run Scripts"
   ]
  },
  {
   "cell_type": "code",
   "execution_count": null,
   "id": "b94b2949",
   "metadata": {},
   "outputs": [],
   "source": [
    "!pwd"
   ]
  },
  {
   "cell_type": "code",
   "execution_count": null,
   "id": "9b9c902f",
   "metadata": {},
   "outputs": [],
   "source": [
    "!(cd tf-database_vm && ls -al) "
   ]
  },
  {
   "cell_type": "code",
   "execution_count": null,
   "id": "159629fb",
   "metadata": {},
   "outputs": [],
   "source": [
    "!(cd tf-database_vm && tree .) "
   ]
  },
  {
   "cell_type": "code",
   "execution_count": null,
   "id": "704aea7f",
   "metadata": {},
   "outputs": [],
   "source": [
    "!(cd tf-database_vm && tofu init) "
   ]
  },
  {
   "cell_type": "code",
   "execution_count": null,
   "id": "d5d63215",
   "metadata": {},
   "outputs": [],
   "source": [
    "!(cd tf-database_vm && tofu validate)"
   ]
  },
  {
   "cell_type": "code",
   "execution_count": null,
   "id": "00443ef2",
   "metadata": {},
   "outputs": [],
   "source": [
    "!(cd tf-database_vm && tofu plan -input=false)"
   ]
  },
  {
   "cell_type": "code",
   "execution_count": null,
   "id": "dcce6411",
   "metadata": {},
   "outputs": [],
   "source": [
    "!(cd tf-database_vm && tofu apply -input=false -auto-approve)"
   ]
  },
  {
   "cell_type": "code",
   "execution_count": null,
   "id": "082ce9c8",
   "metadata": {},
   "outputs": [],
   "source": [
    "!(cd tf-database_vm && tofu output)"
   ]
  },
  {
   "cell_type": "markdown",
   "id": "3794470e",
   "metadata": {},
   "source": [
    "## Connect to the Database Instance\n",
    "To connect to the database, you must first connect to the webserver:\n",
    "```bash\n",
    "ssh -i <ssh-private-key-path> ubuntu@<your-public-ip-address>\n",
    "```"
   ]
  },
  {
   "cell_type": "markdown",
   "id": "4c917a54",
   "metadata": {},
   "source": [
    "# Create a Webserver Compute Instance\n",
    "\n",
    "[Create a Compute Instance](https://docs.oracle.com/en-us/iaas/developer-tutorials/tutorials/tf-compute/01-summary.htm)\n",
    "## Create SSH Encryption Keys\n",
    "Execute the following command in the terminal:\n",
    "```bash\n",
    "ssh-keygen -t rsa -b 2048 -C \"\" -f ~/.ssh/webserver_vm_key\n",
    "```\n",
    "## Create Scripts"
   ]
  },
  {
   "cell_type": "code",
   "execution_count": null,
   "id": "b5d79a72",
   "metadata": {},
   "outputs": [],
   "source": [
    "!mkdir tf-webserver_vm"
   ]
  },
  {
   "cell_type": "code",
   "execution_count": null,
   "id": "8f5fc750",
   "metadata": {},
   "outputs": [],
   "source": [
    "!cp ./tf-provider/provider.tf ./tf-webserver_vm/provider.tf "
   ]
  },
  {
   "cell_type": "code",
   "execution_count": null,
   "id": "3a474482",
   "metadata": {},
   "outputs": [],
   "source": [
    "!cp ./tf-vcn/variables.tf ./tf-webserver_vm/variables.tf "
   ]
  },
  {
   "cell_type": "code",
   "execution_count": null,
   "id": "13c577bd",
   "metadata": {},
   "outputs": [],
   "source": [
    "!cp ./tf-provider/availability-domains.tf ./tf-webserver_vm/availability-domains.tf"
   ]
  },
  {
   "cell_type": "code",
   "execution_count": null,
   "id": "1ebfe908",
   "metadata": {},
   "outputs": [],
   "source": [
    "%%writefile ./tf-webserver_vm/webserver_vm.tf\n",
    "\n",
    "\n",
    "resource \"oci_core_instance\" \"webserver_instance\" {\n",
    "  # Required\n",
    "  availability_domain = data.oci_identity_availability_domains.ads.availability_domains[0].name\n",
    "  compartment_id = var.compartment_id\n",
    "  shape = \"VM.Standard.E2.1.Micro\"\n",
    "  source_details {\n",
    "    # https://docs.oracle.com/en-us/iaas/images/ \n",
    "    # Use Canonical-Ubuntu-22.04-Minimal for your region\n",
    "    source_id = \"<source-ocid>\"\n",
    "    source_type = \"image\"\n",
    "  }\n",
    "\n",
    "  # Optional\n",
    "  display_name = \"ubuntu-webserver-instance\"\n",
    "  create_vnic_details {\n",
    "    assign_public_ip = true\n",
    "    # Public subnet\n",
    "    # Find this in your VCN outputs.  \n",
    "    subnet_id = \"<subnet-ocid>\"\n",
    "  }\n",
    "  metadata = {\n",
    "    ssh_authorized_keys = file(\"<ssh-public-key-path>\")\n",
    "  } \n",
    "  preserve_boot_volume = false\n",
    "}"
   ]
  },
  {
   "cell_type": "code",
   "execution_count": 17,
   "id": "268ba6fe",
   "metadata": {},
   "outputs": [],
   "source": [
    "!code ./tf-webserver_vm/webserver_vm.tf "
   ]
  },
  {
   "cell_type": "code",
   "execution_count": null,
   "id": "e3b8b8ff",
   "metadata": {},
   "outputs": [],
   "source": [
    "%%writefile ./tf-webserver_vm/outputs.tf\n",
    "\n",
    "\n",
    "# The \"name\" of the availability domain to be used for the compute instance.\n",
    "output \"name-of-first-availability-domain\" {\n",
    "  value = data.oci_identity_availability_domains.ads.availability_domains[0].name\n",
    "}\n",
    "\n",
    "# Outputs for compute instance\n",
    "output \"public-ip-for-compute-instance\" {\n",
    "  value = oci_core_instance.webserver_instance.public_ip\n",
    "}\n",
    "\n",
    "\n",
    "output \"private-ip-for-compute-instance\" {\n",
    "  value = oci_core_instance.webserver_instance.private_ip\n",
    "}\n",
    "\n",
    "output \"instance-name\" {\n",
    "  value = oci_core_instance.webserver_instance.display_name\n",
    "}\n",
    "\n",
    "output \"instance-OCID\" {\n",
    "  value = oci_core_instance.webserver_instance.id\n",
    "}\n",
    "\n",
    "output \"instance-region\" {\n",
    "  value = oci_core_instance.webserver_instance.region\n",
    "}\n",
    "\n",
    "output \"instance-shape\" {\n",
    "  value = oci_core_instance.webserver_instance.shape\n",
    "}\n",
    "\n",
    "output \"instance-state\" {\n",
    "  value = oci_core_instance.webserver_instance.state\n",
    "}\n",
    "\n",
    "output \"instance-OCPUs\" {\n",
    "  value = oci_core_instance.webserver_instance.shape_config[0].ocpus\n",
    "}\n",
    "\n",
    "output \"instance-memory-in-GBs\" {\n",
    "  value = oci_core_instance.webserver_instance.shape_config[0].memory_in_gbs\n",
    "}\n",
    "\n",
    "output \"time-created\" {\n",
    "  value = oci_core_instance.webserver_instance.time_created\n",
    "}"
   ]
  },
  {
   "cell_type": "code",
   "execution_count": null,
   "id": "db40495d",
   "metadata": {},
   "outputs": [],
   "source": [
    "!code ./tf-webserver_vm/outputs.tf "
   ]
  },
  {
   "cell_type": "markdown",
   "id": "8f1f6150",
   "metadata": {},
   "source": [
    "## Run Scripts"
   ]
  },
  {
   "cell_type": "code",
   "execution_count": null,
   "id": "d0feabf2",
   "metadata": {},
   "outputs": [],
   "source": [
    "!pwd"
   ]
  },
  {
   "cell_type": "code",
   "execution_count": null,
   "id": "545c5f25",
   "metadata": {},
   "outputs": [],
   "source": [
    "!(cd tf-webserver_vm && ls -al) "
   ]
  },
  {
   "cell_type": "code",
   "execution_count": null,
   "id": "d9b742cb",
   "metadata": {},
   "outputs": [],
   "source": [
    "!(cd tf-webserver_vm && tree .) "
   ]
  },
  {
   "cell_type": "code",
   "execution_count": null,
   "id": "47ec9af1",
   "metadata": {},
   "outputs": [],
   "source": [
    "!(cd tf-webserver_vm && tofu init) "
   ]
  },
  {
   "cell_type": "code",
   "execution_count": null,
   "id": "880c7bc8",
   "metadata": {},
   "outputs": [],
   "source": [
    "!(cd tf-webserver_vm && tofu validate)"
   ]
  },
  {
   "cell_type": "code",
   "execution_count": null,
   "id": "832af66d",
   "metadata": {},
   "outputs": [],
   "source": [
    "!(cd tf-webserver_vm && tofu plan -input=false)"
   ]
  },
  {
   "cell_type": "code",
   "execution_count": null,
   "id": "7968290b",
   "metadata": {},
   "outputs": [],
   "source": [
    "!(cd tf-webserver_vm && tofu apply -input=false -auto-approve)"
   ]
  },
  {
   "cell_type": "code",
   "execution_count": null,
   "id": "f6ef1c98",
   "metadata": {},
   "outputs": [],
   "source": [
    "!(cd tf-webserver_vm && tofu output)"
   ]
  },
  {
   "cell_type": "markdown",
   "id": "4296488e",
   "metadata": {},
   "source": [
    "# Configure Servers\n",
    "First, copy the Database VM SSH private key to the Web Server VM.\n",
    "\n",
    "On your Ubuntu client, change into the .ssh directory:\n",
    "\n",
    "```bash\n",
    "cd\n",
    "cd .ssh\n",
    "ls -al\n",
    "```\n",
    "You should see the Database VM SSH keys.\n",
    "\n",
    "Now connect to the Webserver VM using SFTP:\n",
    "```bash\n",
    "sftp -i <ssh-private-key-path> ubuntu@<your-public-ip-address>\n",
    "```\n",
    "For example:\n",
    "```bash\n",
    "sftp -i /home/harley/.ssh/webserver_vm_key ubuntu@168.138.11.254\n",
    "```\n",
    "Once connected to the Webserver VM, transfer the private key:\n",
    "```bash\n",
    "put database_vm_key\n",
    "exit\n",
    "```\n",
    "Now connect to the Webserver VM using SSH:\n",
    "```bash\n",
    "ssh -i <ssh-private-key-path> ubuntu@<your-public-ip-address>\n",
    "```\n",
    "For example:\n",
    "```bash\n",
    "ssh -i /home/harley/.ssh/webserver_vm_key ubuntu@168.138.11.254\n",
    "```\n",
    "Once connected to the Webserver VM, move the private key to .ssh:\n",
    "```bash\n",
    "mv database_vm_key .ssh/\n",
    "```\n",
    "Next, we'll download files we need to install on the Database VM."
   ]
  },
  {
   "cell_type": "markdown",
   "id": "fdfe9224",
   "metadata": {},
   "source": [
    "## Get and transfer files for MySQL\n",
    "\n",
    "Check for newer software before running the following wget commands.\n",
    "\n",
    "[Index of /debian/pool/main/d/dpkg](http://deb.debian.org/debian/pool/main/d/dpkg/)\n",
    "\n",
    "[MySQL Community Downloads](https://dev.mysql.com/downloads/mysql/)\n",
    "\n",
    "Run the following commands in the webserver terminal:\n",
    "\n",
    "```bash\n",
    "wget http://deb.debian.org/debian/pool/main/d/dpkg/dpkg-dev_1.22.2_all.deb\n",
    "wget https://dev.mysql.com/get/Downloads/MySQL-8.3/mysql-server_8.3.0-1ubuntu22.04_amd64.deb-bundle.tar\n",
    "```\n",
    "Now connect to the Database VM using SFTP:\n",
    "```bash\n",
    "sftp -i <ssh-private-key-path> ubuntu@<your-private-ip-address>\n",
    "```\n",
    "For example:\n",
    "```bash\n",
    "sftp -i /home/ubuntu/.ssh/database_vm_key ubuntu@10.0.1.134\n",
    "```\n",
    "Once connected to the Database VM, transfer the files:\n",
    "```bash\n",
    "put dpkg-dev_1.22.2_all.deb \n",
    "put mysql-server_8.3.0-1ubuntu22.04_amd64.deb-bundle.tar\n",
    "exit\n",
    "```\n",
    "Now connect to the Database VM using SSH:\n",
    "```bash\n",
    "ssh -i <ssh-private-key-path> ubuntu@<your-private-ip-address>\n",
    "```\n",
    "For example:\n",
    "```bash\n",
    "ssh -i /home/ubuntu/.ssh/database_vm_key ubuntu@10.0.1.134\n",
    "```"
   ]
  },
  {
   "cell_type": "markdown",
   "id": "2b19d2ae",
   "metadata": {},
   "source": [
    "## Set up MySQL\n",
    "You should now be connected to your Database VM.\n",
    "\n",
    "First, install some prerequisites:\n",
    "```bash\n",
    "sudo su\n",
    "apt install ./dpkg-dev_1.22.2_all.deb\n",
    "```\n",
    "Now install MySQL:\n",
    "```bash\n",
    "tar -xvf mysql-server_8.3.0-1ubuntu22.04_amd64.deb-bundle.tar\n",
    "dpkg-preconfigure mysql-community-server_*.deb\n",
    "dpkg -i mysql-{common,community-client-plugins,community-client-core,community-client,client,community-server-core,community-server,server}_*.deb\n",
    "```\n",
    "Check your installation:\n",
    "```bash\n",
    "mysql --version\n",
    "```\n",
    "Start MySQL\n",
    "```bash\n",
    "systemctl start mysql\n",
    "```\n",
    "Configure firewall:\n",
    "```bash\n",
    "iptables -I INPUT 6 -m state --state NEW -p tcp --dport 3306 -j ACCEPT\n",
    "netfilter-persistent save\n",
    "```\n",
    "To have MySQL start at boot:\n",
    "```bash\n",
    "systemctl enable mysql\n",
    "```\n",
    "\n",
    "Open MySQL\n",
    "```bash\n",
    "mysql -u root\n",
    "```\n",
    "Create a database and a user:\n",
    "```sql\n",
    "CREATE DATABASE wordpress;\n",
    "CREATE USER 'bob'@'%' IDENTIFIED BY 'EO750FAS7F6Tvpzx';\n",
    "GRANT SELECT, INSERT, UPDATE, DELETE, CREATE, DROP, ALTER ON wordpress.* TO 'bob'@'%';\n",
    "FLUSH PRIVILEGES;\n",
    "```\n",
    "Now use wordpress database:\n",
    "```sql\n",
    "USE wordpress;\n",
    "\n",
    "```"
   ]
  },
  {
   "cell_type": "markdown",
   "id": "b631beb2",
   "metadata": {},
   "source": [
    "## Set up Apache\n",
    "\n",
    "Open a new terminal tab, connect to the webserver using SSH, and run the following command in the webserver terminal:\n",
    "```bash\n",
    "sudo su\n",
    "\n",
    "apt update\n",
    "apt -y install apache2\n",
    "systemctl restart apache2\n",
    "\n",
    "iptables -I INPUT 6 -m state --state NEW -p tcp --dport 80 -j ACCEPT\n",
    "iptables -I INPUT 6 -m state --state NEW -p tcp --dport 443 -j ACCEPT\n",
    "netfilter-persistent save\n",
    "```\n",
    "In the browser, connect to http://your-public-ip-address"
   ]
  },
  {
   "cell_type": "markdown",
   "id": "f8ccb25a",
   "metadata": {},
   "source": [
    "## Set up PHP\n",
    "\n",
    "Run the following command in the webserver terminal:\n",
    "```bash\n",
    "apt -y install php libapache2-mod-php\n",
    "systemctl restart apache2\n",
    "\n",
    "echo '<?php\n",
    "  phpinfo();\n",
    "?>' > /var/www/html/info.php\n",
    "```\n",
    "In the browser, connect to http://your-public-ip-address/info.php\n",
    "\n",
    "\n",
    "## Install phpmyadmin\n",
    "\n",
    "```bash\n",
    "apt install phpmyadmin\n",
    "\n",
    "apt install vim\n",
    "vim /etc/phpmyadmin/config.inc.php\n",
    "\n",
    "```\n",
    "\n",
    "Add the lines below to the bottom of: /etc/phpmyadmin/config.inc.php\n",
    "\n",
    "```\n",
    "$i++;\n",
    "$cfg['Servers'][$i]['host'] = 'HostName:port'; //provide hostname and port if other than default\n",
    "$cfg['Servers'][$i]['user'] = 'userName';      //user name for your remote server\n",
    "$cfg['Servers'][$i]['password'] = 'Password';  //password\n",
    "$cfg['Servers'][$i]['auth_type'] = 'config';   // keep it as config\n",
    "\n",
    "```\n",
    "\n",
    "In the browser, connect to http://your-public-ip-address/phpmyadmin\n",
    "\n",
    "\n",
    "## Setup Wordpress\n",
    "\n",
    "\n",
    "```bash\n",
    "apt install wordpress\n",
    "vim /etc/apache2/sites-available/wordpress.conf\n",
    "```\n",
    "Add the following to the file:\n",
    "```\n",
    "Alias /blog /usr/share/wordpress\n",
    "<Directory /usr/share/wordpress>\n",
    "    Options FollowSymLinks\n",
    "    AllowOverride Limit Options FileInfo\n",
    "    DirectoryIndex index.php\n",
    "    Order allow,deny\n",
    "    Allow from all\n",
    "</Directory>\n",
    "<Directory /usr/share/wordpress/wp-content>\n",
    "    Options FollowSymLinks\n",
    "    Order allow,deny\n",
    "    Allow from all\n",
    "</Directory>\n",
    "```\n",
    "Run the following commands:\n",
    "\n",
    "```bash\n",
    "a2ensite wordpress\n",
    "systemctl reload apache2\n",
    "```\n",
    "\n",
    "Configure WordPress to use a MySQL database. \n",
    "Open the /etc/wordpress/config-localhost.php file:\n",
    "\n",
    "```bash\n",
    "vim /etc/wordpress/config-localhost.php\n",
    "```\n",
    "\n",
    "Write the following lines:\n",
    "```\n",
    "<?php\n",
    "define('DB_NAME', 'wordpress');\n",
    "define('DB_USER', 'bob');\n",
    "define('DB_PASSWORD', 'EO750FAS7F6Tvpzx');\n",
    "define('DB_HOST', '<private-ip-address>');\n",
    "define('WP_CONTENT_DIR', '/usr/share/wordpress/wp-content');\n",
    "?>\n",
    "```\n",
    "```bash\n",
    "mv /etc/wordpress/config-localhost.php /etc/wordpress/config-<public-ip-address>.php \n",
    "```\n",
    "\n",
    "In the browser, connect to http://your-public-ip-address/blog/wp-admin/install.php\n"
   ]
  },
  {
   "cell_type": "markdown",
   "id": "e4786611",
   "metadata": {},
   "source": [
    "# Reboot\n",
    "Reboot both VMs and make sure everything still works.\n",
    "```bash\n",
    "reboot\n",
    "```\n",
    "Check your website here:\n",
    "```\n",
    "http://<your-public-ip-address>/index.php\n",
    "```"
   ]
  },
  {
   "cell_type": "markdown",
   "id": "58ecb6b7",
   "metadata": {},
   "source": [
    "# Security\n",
    "\n",
    "## Webserver\n",
    "Remove the info.php file:\n",
    "\n",
    "```bash\n",
    "rm /var/www/html/info.php\n",
    "```\n",
    "\n",
    "## Database\n",
    "\n",
    "Remove the Database VM SSH private key from the Web Server VM once you have finished configuration.\n",
    "\n",
    "Don't lose it.\n",
    "\n",
    "## Two-Factor Authentication (2FA)\n",
    "\n",
    "Enable 2FA on the webserver.\n",
    "\n",
    "[Set Up SSH Two-Factor Authentication](https://www.linuxbabe.com/debian/ssh-two-factor-authentication-debian)\n",
    "\n",
    "When using the instructions, remember these things:\n",
    "\n",
    "- Run google-authenticator as the ubuntu user, not the root user.\n",
    "- In Step 2, use the instructions for Public key authentication with 2FA.\n",
    "- Exit the authenticator app and reopen it to get a fresh code.\n",
    "- Test your config by logging into the Webserver using SSH in a new tab before you close the tab you are using for configuration.\n",
    "- DO NOT CLOSE YOUR SSH SESSION UNTIL YOU HAVE VERIFIED FUNCTIONALITY.\n",
    "\n",
    "YOU REALLY SHOULD ALSO SETUP 2FA FOR WordPress AND phpMyAdmin ALSO."
   ]
  },
  {
   "cell_type": "markdown",
   "id": "5109a7e1",
   "metadata": {},
   "source": [
    "# Destroy Resources"
   ]
  },
  {
   "cell_type": "code",
   "execution_count": null,
   "id": "92326209",
   "metadata": {},
   "outputs": [],
   "source": [
    "!(cd tf-webserver_vm && tofu destroy -input=false -auto-approve)"
   ]
  },
  {
   "cell_type": "code",
   "execution_count": null,
   "id": "2c3454dd",
   "metadata": {},
   "outputs": [],
   "source": [
    "!(cd tf-database_vm && tofu destroy -input=false -auto-approve)"
   ]
  },
  {
   "cell_type": "code",
   "execution_count": null,
   "id": "c3770fc4",
   "metadata": {},
   "outputs": [],
   "source": [
    "!(cd tf-vcn && tofu destroy -input=false -auto-approve)"
   ]
  },
  {
   "cell_type": "code",
   "execution_count": null,
   "id": "f6287d2b",
   "metadata": {},
   "outputs": [],
   "source": [
    "!(cd tf-compartment && tofu destroy -input=false -auto-approve)"
   ]
  },
  {
   "cell_type": "code",
   "execution_count": null,
   "id": "f02e6524",
   "metadata": {},
   "outputs": [],
   "source": [
    "!(cd tf-provider && tofu destroy -input=false -auto-approve)"
   ]
  }
 ],
 "metadata": {
  "kernelspec": {
   "display_name": "Python 3 (ipykernel)",
   "language": "python",
   "name": "python3"
  },
  "language_info": {
   "codemirror_mode": {
    "name": "ipython",
    "version": 3
   },
   "file_extension": ".py",
   "mimetype": "text/x-python",
   "name": "python",
   "nbconvert_exporter": "python",
   "pygments_lexer": "ipython3",
   "version": "3.9.13"
  }
 },
 "nbformat": 4,
 "nbformat_minor": 5
}
